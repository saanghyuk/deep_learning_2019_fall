{
 "cells": [
  {
   "cell_type": "markdown",
   "metadata": {},
   "source": [
    "### Marketing Research Assignment\n",
    "\n",
    "\n",
    "\n",
    "```\n",
    "2018100116 LIJIAXUE\n",
    "2017105589 ZHANG MENG \n",
    "2017105591 ZHANGYUZHUO \n",
    "2012100249 SANGHYUK SON                       \n",
    "```\n",
    "\n",
    "> \n",
    ">- We used Python Libraries(Numpy, Pandas, Matplotlib, scipy) to explore the Data.\n",
    ">- We wrote this document by using Jupyter Notebook, Typora, and Markdown. \n",
    ">- Due to the lack of spcae, many pre-processing processes have been omitted. You can see all raw codes in the link below. \n",
    ">[https://github.com/saanghyuk/deep_learning_2019_fall/tree/master/MarketingResearch](Github)\n",
    "\n",
    "\n",
    "------\n",
    "<u>Form the two hypotheses to the Data</u>\n",
    "\n",
    "|    Data     | Hypothesis Question                                          |\n",
    "| :---------: | ------------------------------------------------------------ |\n",
    "| Credit Risk | Is the total savings(combined checking and savings account balance) of Population 2800? |\n",
    "| Credit Risk | Does the total savings(combined checking and savings account balance) have a correlation with the number of months as a customer of the bank? |\n",
    "|  Facebook   | Does the Hours online/week have a correlation with Friends?  |\n",
    "\n"
   ]
  },
  {
   "cell_type": "code",
   "execution_count": 1,
   "metadata": {},
   "outputs": [],
   "source": [
    "import pandas as pd\n",
    "import numpy as np\n",
    "import matplotlib.pyplot as plt\n",
    "import matplotlib as mpl\n",
    "from pandas.plotting import scatter_matrix\n",
    "import seaborn as sns\n",
    "sns.set(style=\"ticks\", color_codes=True)\n",
    "\n",
    "%matplotlib inline\n",
    "\n",
    "\n",
    "\n",
    "mpl.rcParams['axes.unicode_minus'] = False"
   ]
  },
  {
   "cell_type": "code",
   "execution_count": 2,
   "metadata": {},
   "outputs": [],
   "source": [
    "df = pd.read_excel('Data_Sets.xlsx')"
   ]
  },
  {
   "cell_type": "markdown",
   "metadata": {},
   "source": [
    "<h4>Explore the Data</h4>\n",
    "\n",
    "There are 10 columns in this Data"
   ]
  },
  {
   "cell_type": "code",
   "execution_count": 67,
   "metadata": {},
   "outputs": [
    {
     "data": {
      "text/html": [
       "<div>\n",
       "<style scoped>\n",
       "    .dataframe tbody tr th:only-of-type {\n",
       "        vertical-align: middle;\n",
       "    }\n",
       "\n",
       "    .dataframe tbody tr th {\n",
       "        vertical-align: top;\n",
       "    }\n",
       "\n",
       "    .dataframe thead th {\n",
       "        text-align: right;\n",
       "    }\n",
       "</style>\n",
       "<table border=\"1\" class=\"dataframe\">\n",
       "  <thead>\n",
       "    <tr style=\"text-align: right;\">\n",
       "      <th></th>\n",
       "      <th>Loan Purpose</th>\n",
       "      <th>Checking</th>\n",
       "      <th>Savings</th>\n",
       "      <th>Months Customer</th>\n",
       "      <th>Months Employed</th>\n",
       "      <th>Gender</th>\n",
       "      <th>Marital Status</th>\n",
       "      <th>Age</th>\n",
       "      <th>Housing</th>\n",
       "      <th>Years</th>\n",
       "      <th>Job</th>\n",
       "      <th>Credit Risk</th>\n",
       "    </tr>\n",
       "  </thead>\n",
       "  <tbody>\n",
       "    <tr>\n",
       "      <td>1</td>\n",
       "      <td>Small Appliance</td>\n",
       "      <td>0</td>\n",
       "      <td>739</td>\n",
       "      <td>13</td>\n",
       "      <td>12</td>\n",
       "      <td>M</td>\n",
       "      <td>Single</td>\n",
       "      <td>23</td>\n",
       "      <td>Own</td>\n",
       "      <td>3</td>\n",
       "      <td>Unskilled</td>\n",
       "      <td>Low</td>\n",
       "    </tr>\n",
       "    <tr>\n",
       "      <td>2</td>\n",
       "      <td>Furniture</td>\n",
       "      <td>0</td>\n",
       "      <td>1230</td>\n",
       "      <td>25</td>\n",
       "      <td>0</td>\n",
       "      <td>M</td>\n",
       "      <td>Divorced</td>\n",
       "      <td>32</td>\n",
       "      <td>Own</td>\n",
       "      <td>1</td>\n",
       "      <td>Skilled</td>\n",
       "      <td>High</td>\n",
       "    </tr>\n",
       "    <tr>\n",
       "      <td>3</td>\n",
       "      <td>New Car</td>\n",
       "      <td>0</td>\n",
       "      <td>389</td>\n",
       "      <td>19</td>\n",
       "      <td>119</td>\n",
       "      <td>M</td>\n",
       "      <td>Single</td>\n",
       "      <td>38</td>\n",
       "      <td>Own</td>\n",
       "      <td>4</td>\n",
       "      <td>Management</td>\n",
       "      <td>High</td>\n",
       "    </tr>\n",
       "    <tr>\n",
       "      <td>4</td>\n",
       "      <td>Furniture</td>\n",
       "      <td>638</td>\n",
       "      <td>347</td>\n",
       "      <td>13</td>\n",
       "      <td>14</td>\n",
       "      <td>M</td>\n",
       "      <td>Single</td>\n",
       "      <td>36</td>\n",
       "      <td>Own</td>\n",
       "      <td>2</td>\n",
       "      <td>Unskilled</td>\n",
       "      <td>High</td>\n",
       "    </tr>\n",
       "    <tr>\n",
       "      <td>5</td>\n",
       "      <td>Education</td>\n",
       "      <td>963</td>\n",
       "      <td>4754</td>\n",
       "      <td>40</td>\n",
       "      <td>45</td>\n",
       "      <td>M</td>\n",
       "      <td>Single</td>\n",
       "      <td>31</td>\n",
       "      <td>Rent</td>\n",
       "      <td>3</td>\n",
       "      <td>Skilled</td>\n",
       "      <td>Low</td>\n",
       "    </tr>\n",
       "  </tbody>\n",
       "</table>\n",
       "</div>"
      ],
      "text/plain": [
       "      Loan Purpose Checking  Savings Months Customer Months Employed Gender  \\\n",
       "1  Small Appliance         0     739              13              12      M   \n",
       "2        Furniture         0    1230              25               0      M   \n",
       "3          New Car         0     389              19             119      M   \n",
       "4        Furniture       638     347              13              14      M   \n",
       "5        Education       963    4754              40              45      M   \n",
       "\n",
       "  Marital Status Age Housing Years         Job Credit Risk  \n",
       "1         Single  23     Own     3   Unskilled         Low  \n",
       "2       Divorced  32     Own     1     Skilled        High  \n",
       "3         Single  38     Own     4  Management        High  \n",
       "4         Single  36     Own     2   Unskilled        High  \n",
       "5         Single  31    Rent     3     Skilled         Low  "
      ]
     },
     "execution_count": 67,
     "metadata": {},
     "output_type": "execute_result"
    }
   ],
   "source": [
    "data.head()"
   ]
  },
  {
   "cell_type": "markdown",
   "metadata": {},
   "source": [
    "***We have to divde Categorical and Numerical Data to deep dive into Data.***"
   ]
  },
  {
   "cell_type": "code",
   "execution_count": 19,
   "metadata": {},
   "outputs": [],
   "source": [
    "cate_list = ['Loan Purpose','Gender', 'Marital Status', 'Housing', 'Job', 'Credit Risk']\n",
    "num_list = ['Checking ', 'Savings', 'Months Customer','Months Employed',\n",
    "           'Age', 'Years' ]"
   ]
  },
  {
   "cell_type": "code",
   "execution_count": 75,
   "metadata": {},
   "outputs": [],
   "source": [
    "cate_data = data[cate_list]"
   ]
  },
  {
   "cell_type": "code",
   "execution_count": 76,
   "metadata": {},
   "outputs": [],
   "source": [
    "num_data = data[num_list]\n",
    "num_data = num_data.infer_objects()"
   ]
  },
  {
   "cell_type": "markdown",
   "metadata": {},
   "source": [
    "**We want to see the approximate description of these two data**"
   ]
  },
  {
   "cell_type": "code",
   "execution_count": 79,
   "metadata": {},
   "outputs": [
    {
     "data": {
      "text/html": [
       "<div>\n",
       "<style scoped>\n",
       "    .dataframe tbody tr th:only-of-type {\n",
       "        vertical-align: middle;\n",
       "    }\n",
       "\n",
       "    .dataframe tbody tr th {\n",
       "        vertical-align: top;\n",
       "    }\n",
       "\n",
       "    .dataframe thead th {\n",
       "        text-align: right;\n",
       "    }\n",
       "</style>\n",
       "<table border=\"1\" class=\"dataframe\">\n",
       "  <thead>\n",
       "    <tr style=\"text-align: right;\">\n",
       "      <th></th>\n",
       "      <th>Loan Purpose</th>\n",
       "      <th>Gender</th>\n",
       "      <th>Marital Status</th>\n",
       "      <th>Housing</th>\n",
       "      <th>Job</th>\n",
       "      <th>Credit Risk</th>\n",
       "    </tr>\n",
       "  </thead>\n",
       "  <tbody>\n",
       "    <tr>\n",
       "      <td>count</td>\n",
       "      <td>425</td>\n",
       "      <td>425</td>\n",
       "      <td>425</td>\n",
       "      <td>425</td>\n",
       "      <td>425</td>\n",
       "      <td>425</td>\n",
       "    </tr>\n",
       "    <tr>\n",
       "      <td>unique</td>\n",
       "      <td>10</td>\n",
       "      <td>2</td>\n",
       "      <td>3</td>\n",
       "      <td>3</td>\n",
       "      <td>4</td>\n",
       "      <td>2</td>\n",
       "    </tr>\n",
       "    <tr>\n",
       "      <td>top</td>\n",
       "      <td>Small Appliance</td>\n",
       "      <td>M</td>\n",
       "      <td>Single</td>\n",
       "      <td>Own</td>\n",
       "      <td>Skilled</td>\n",
       "      <td>Low</td>\n",
       "    </tr>\n",
       "    <tr>\n",
       "      <td>freq</td>\n",
       "      <td>105</td>\n",
       "      <td>290</td>\n",
       "      <td>233</td>\n",
       "      <td>292</td>\n",
       "      <td>271</td>\n",
       "      <td>214</td>\n",
       "    </tr>\n",
       "  </tbody>\n",
       "</table>\n",
       "</div>"
      ],
      "text/plain": [
       "           Loan Purpose Gender Marital Status Housing      Job Credit Risk\n",
       "count               425    425            425     425      425         425\n",
       "unique               10      2              3       3        4           2\n",
       "top     Small Appliance      M         Single     Own  Skilled         Low\n",
       "freq                105    290            233     292      271         214"
      ]
     },
     "execution_count": 79,
     "metadata": {},
     "output_type": "execute_result"
    }
   ],
   "source": [
    "cate_data.describe()"
   ]
  },
  {
   "cell_type": "code",
   "execution_count": 80,
   "metadata": {},
   "outputs": [
    {
     "data": {
      "text/html": [
       "<div>\n",
       "<style scoped>\n",
       "    .dataframe tbody tr th:only-of-type {\n",
       "        vertical-align: middle;\n",
       "    }\n",
       "\n",
       "    .dataframe tbody tr th {\n",
       "        vertical-align: top;\n",
       "    }\n",
       "\n",
       "    .dataframe thead th {\n",
       "        text-align: right;\n",
       "    }\n",
       "</style>\n",
       "<table border=\"1\" class=\"dataframe\">\n",
       "  <thead>\n",
       "    <tr style=\"text-align: right;\">\n",
       "      <th></th>\n",
       "      <th>Checking</th>\n",
       "      <th>Savings</th>\n",
       "      <th>Months Customer</th>\n",
       "      <th>Months Employed</th>\n",
       "      <th>Age</th>\n",
       "      <th>Years</th>\n",
       "    </tr>\n",
       "  </thead>\n",
       "  <tbody>\n",
       "    <tr>\n",
       "      <td>count</td>\n",
       "      <td>425.000000</td>\n",
       "      <td>425.000000</td>\n",
       "      <td>425.000000</td>\n",
       "      <td>425.000000</td>\n",
       "      <td>425.000000</td>\n",
       "      <td>425.000000</td>\n",
       "    </tr>\n",
       "    <tr>\n",
       "      <td>mean</td>\n",
       "      <td>1048.014118</td>\n",
       "      <td>1812.562353</td>\n",
       "      <td>22.896471</td>\n",
       "      <td>31.896471</td>\n",
       "      <td>34.397647</td>\n",
       "      <td>2.840000</td>\n",
       "    </tr>\n",
       "    <tr>\n",
       "      <td>std</td>\n",
       "      <td>3147.183472</td>\n",
       "      <td>3597.285020</td>\n",
       "      <td>12.267599</td>\n",
       "      <td>32.259321</td>\n",
       "      <td>11.045126</td>\n",
       "      <td>1.087146</td>\n",
       "    </tr>\n",
       "    <tr>\n",
       "      <td>min</td>\n",
       "      <td>0.000000</td>\n",
       "      <td>0.000000</td>\n",
       "      <td>5.000000</td>\n",
       "      <td>0.000000</td>\n",
       "      <td>18.000000</td>\n",
       "      <td>1.000000</td>\n",
       "    </tr>\n",
       "    <tr>\n",
       "      <td>25%</td>\n",
       "      <td>0.000000</td>\n",
       "      <td>228.000000</td>\n",
       "      <td>13.000000</td>\n",
       "      <td>6.000000</td>\n",
       "      <td>26.000000</td>\n",
       "      <td>2.000000</td>\n",
       "    </tr>\n",
       "    <tr>\n",
       "      <td>50%</td>\n",
       "      <td>0.000000</td>\n",
       "      <td>596.000000</td>\n",
       "      <td>19.000000</td>\n",
       "      <td>20.000000</td>\n",
       "      <td>32.000000</td>\n",
       "      <td>3.000000</td>\n",
       "    </tr>\n",
       "    <tr>\n",
       "      <td>75%</td>\n",
       "      <td>560.000000</td>\n",
       "      <td>921.000000</td>\n",
       "      <td>28.000000</td>\n",
       "      <td>47.000000</td>\n",
       "      <td>41.000000</td>\n",
       "      <td>4.000000</td>\n",
       "    </tr>\n",
       "    <tr>\n",
       "      <td>max</td>\n",
       "      <td>19812.000000</td>\n",
       "      <td>19811.000000</td>\n",
       "      <td>73.000000</td>\n",
       "      <td>119.000000</td>\n",
       "      <td>73.000000</td>\n",
       "      <td>4.000000</td>\n",
       "    </tr>\n",
       "  </tbody>\n",
       "</table>\n",
       "</div>"
      ],
      "text/plain": [
       "          Checking        Savings  Months Customer  Months Employed  \\\n",
       "count    425.000000    425.000000       425.000000       425.000000   \n",
       "mean    1048.014118   1812.562353        22.896471        31.896471   \n",
       "std     3147.183472   3597.285020        12.267599        32.259321   \n",
       "min        0.000000      0.000000         5.000000         0.000000   \n",
       "25%        0.000000    228.000000        13.000000         6.000000   \n",
       "50%        0.000000    596.000000        19.000000        20.000000   \n",
       "75%      560.000000    921.000000        28.000000        47.000000   \n",
       "max    19812.000000  19811.000000        73.000000       119.000000   \n",
       "\n",
       "              Age       Years  \n",
       "count  425.000000  425.000000  \n",
       "mean    34.397647    2.840000  \n",
       "std     11.045126    1.087146  \n",
       "min     18.000000    1.000000  \n",
       "25%     26.000000    2.000000  \n",
       "50%     32.000000    3.000000  \n",
       "75%     41.000000    4.000000  \n",
       "max     73.000000    4.000000  "
      ]
     },
     "execution_count": 80,
     "metadata": {},
     "output_type": "execute_result"
    }
   ],
   "source": [
    "num_data.describe()"
   ]
  },
  {
   "cell_type": "markdown",
   "metadata": {},
   "source": [
    "**I want to sum 'Checking' and 'Savings' as 'saving_total' column. **"
   ]
  },
  {
   "cell_type": "code",
   "execution_count": 81,
   "metadata": {},
   "outputs": [],
   "source": [
    "frames = [cate_data, num_data]"
   ]
  },
  {
   "cell_type": "code",
   "execution_count": 82,
   "metadata": {},
   "outputs": [],
   "source": [
    "data_2 = pd.concat(frames, axis=1, sort=False)\n",
    "\n",
    "data_2['saving_total'] = data_2['Checking ']+data_2['Savings']"
   ]
  },
  {
   "cell_type": "code",
   "execution_count": 83,
   "metadata": {},
   "outputs": [],
   "source": [
    "assign_data=data_2"
   ]
  },
  {
   "cell_type": "markdown",
   "metadata": {},
   "source": [
    "*assign_data is the final version data after pre-processing*"
   ]
  },
  {
   "cell_type": "code",
   "execution_count": 84,
   "metadata": {},
   "outputs": [
    {
     "data": {
      "text/html": [
       "<div>\n",
       "<style scoped>\n",
       "    .dataframe tbody tr th:only-of-type {\n",
       "        vertical-align: middle;\n",
       "    }\n",
       "\n",
       "    .dataframe tbody tr th {\n",
       "        vertical-align: top;\n",
       "    }\n",
       "\n",
       "    .dataframe thead th {\n",
       "        text-align: right;\n",
       "    }\n",
       "</style>\n",
       "<table border=\"1\" class=\"dataframe\">\n",
       "  <thead>\n",
       "    <tr style=\"text-align: right;\">\n",
       "      <th></th>\n",
       "      <th>Loan Purpose</th>\n",
       "      <th>Gender</th>\n",
       "      <th>Marital Status</th>\n",
       "      <th>Housing</th>\n",
       "      <th>Job</th>\n",
       "      <th>Credit Risk</th>\n",
       "      <th>Checking</th>\n",
       "      <th>Savings</th>\n",
       "      <th>Months Customer</th>\n",
       "      <th>Months Employed</th>\n",
       "      <th>Age</th>\n",
       "      <th>Years</th>\n",
       "      <th>saving_total</th>\n",
       "    </tr>\n",
       "  </thead>\n",
       "  <tbody>\n",
       "    <tr>\n",
       "      <td>1</td>\n",
       "      <td>Small Appliance</td>\n",
       "      <td>M</td>\n",
       "      <td>Single</td>\n",
       "      <td>Own</td>\n",
       "      <td>Unskilled</td>\n",
       "      <td>Low</td>\n",
       "      <td>0</td>\n",
       "      <td>739</td>\n",
       "      <td>13</td>\n",
       "      <td>12</td>\n",
       "      <td>23</td>\n",
       "      <td>3</td>\n",
       "      <td>739</td>\n",
       "    </tr>\n",
       "    <tr>\n",
       "      <td>2</td>\n",
       "      <td>Furniture</td>\n",
       "      <td>M</td>\n",
       "      <td>Divorced</td>\n",
       "      <td>Own</td>\n",
       "      <td>Skilled</td>\n",
       "      <td>High</td>\n",
       "      <td>0</td>\n",
       "      <td>1230</td>\n",
       "      <td>25</td>\n",
       "      <td>0</td>\n",
       "      <td>32</td>\n",
       "      <td>1</td>\n",
       "      <td>1230</td>\n",
       "    </tr>\n",
       "    <tr>\n",
       "      <td>3</td>\n",
       "      <td>New Car</td>\n",
       "      <td>M</td>\n",
       "      <td>Single</td>\n",
       "      <td>Own</td>\n",
       "      <td>Management</td>\n",
       "      <td>High</td>\n",
       "      <td>0</td>\n",
       "      <td>389</td>\n",
       "      <td>19</td>\n",
       "      <td>119</td>\n",
       "      <td>38</td>\n",
       "      <td>4</td>\n",
       "      <td>389</td>\n",
       "    </tr>\n",
       "    <tr>\n",
       "      <td>4</td>\n",
       "      <td>Furniture</td>\n",
       "      <td>M</td>\n",
       "      <td>Single</td>\n",
       "      <td>Own</td>\n",
       "      <td>Unskilled</td>\n",
       "      <td>High</td>\n",
       "      <td>638</td>\n",
       "      <td>347</td>\n",
       "      <td>13</td>\n",
       "      <td>14</td>\n",
       "      <td>36</td>\n",
       "      <td>2</td>\n",
       "      <td>985</td>\n",
       "    </tr>\n",
       "    <tr>\n",
       "      <td>5</td>\n",
       "      <td>Education</td>\n",
       "      <td>M</td>\n",
       "      <td>Single</td>\n",
       "      <td>Rent</td>\n",
       "      <td>Skilled</td>\n",
       "      <td>Low</td>\n",
       "      <td>963</td>\n",
       "      <td>4754</td>\n",
       "      <td>40</td>\n",
       "      <td>45</td>\n",
       "      <td>31</td>\n",
       "      <td>3</td>\n",
       "      <td>5717</td>\n",
       "    </tr>\n",
       "  </tbody>\n",
       "</table>\n",
       "</div>"
      ],
      "text/plain": [
       "      Loan Purpose Gender Marital Status Housing         Job Credit Risk  \\\n",
       "1  Small Appliance      M         Single     Own   Unskilled         Low   \n",
       "2        Furniture      M       Divorced     Own     Skilled        High   \n",
       "3          New Car      M         Single     Own  Management        High   \n",
       "4        Furniture      M         Single     Own   Unskilled        High   \n",
       "5        Education      M         Single    Rent     Skilled         Low   \n",
       "\n",
       "   Checking   Savings  Months Customer  Months Employed  Age  Years  \\\n",
       "1          0      739               13               12   23      3   \n",
       "2          0     1230               25                0   32      1   \n",
       "3          0      389               19              119   38      4   \n",
       "4        638      347               13               14   36      2   \n",
       "5        963     4754               40               45   31      3   \n",
       "\n",
       "   saving_total  \n",
       "1           739  \n",
       "2          1230  \n",
       "3           389  \n",
       "4           985  \n",
       "5          5717  "
      ]
     },
     "execution_count": 84,
     "metadata": {},
     "output_type": "execute_result"
    }
   ],
   "source": [
    "#Data Check (5 rows)\n",
    "assign_data.head()"
   ]
  },
  {
   "cell_type": "code",
   "execution_count": 33,
   "metadata": {},
   "outputs": [
    {
     "data": {
      "text/html": [
       "<div>\n",
       "<style scoped>\n",
       "    .dataframe tbody tr th:only-of-type {\n",
       "        vertical-align: middle;\n",
       "    }\n",
       "\n",
       "    .dataframe tbody tr th {\n",
       "        vertical-align: top;\n",
       "    }\n",
       "\n",
       "    .dataframe thead th {\n",
       "        text-align: right;\n",
       "    }\n",
       "</style>\n",
       "<table border=\"1\" class=\"dataframe\">\n",
       "  <thead>\n",
       "    <tr style=\"text-align: right;\">\n",
       "      <th></th>\n",
       "      <th>Checking</th>\n",
       "      <th>Savings</th>\n",
       "      <th>Months Customer</th>\n",
       "      <th>Months Employed</th>\n",
       "      <th>Age</th>\n",
       "      <th>Years</th>\n",
       "    </tr>\n",
       "  </thead>\n",
       "  <tbody>\n",
       "    <tr>\n",
       "      <td>count</td>\n",
       "      <td>425.000000</td>\n",
       "      <td>425.000000</td>\n",
       "      <td>425.000000</td>\n",
       "      <td>425.000000</td>\n",
       "      <td>425.000000</td>\n",
       "      <td>425.000000</td>\n",
       "    </tr>\n",
       "    <tr>\n",
       "      <td>mean</td>\n",
       "      <td>1048.014118</td>\n",
       "      <td>1812.562353</td>\n",
       "      <td>22.896471</td>\n",
       "      <td>31.896471</td>\n",
       "      <td>34.397647</td>\n",
       "      <td>2.840000</td>\n",
       "    </tr>\n",
       "    <tr>\n",
       "      <td>std</td>\n",
       "      <td>3147.183472</td>\n",
       "      <td>3597.285020</td>\n",
       "      <td>12.267599</td>\n",
       "      <td>32.259321</td>\n",
       "      <td>11.045126</td>\n",
       "      <td>1.087146</td>\n",
       "    </tr>\n",
       "    <tr>\n",
       "      <td>min</td>\n",
       "      <td>0.000000</td>\n",
       "      <td>0.000000</td>\n",
       "      <td>5.000000</td>\n",
       "      <td>0.000000</td>\n",
       "      <td>18.000000</td>\n",
       "      <td>1.000000</td>\n",
       "    </tr>\n",
       "    <tr>\n",
       "      <td>25%</td>\n",
       "      <td>0.000000</td>\n",
       "      <td>228.000000</td>\n",
       "      <td>13.000000</td>\n",
       "      <td>6.000000</td>\n",
       "      <td>26.000000</td>\n",
       "      <td>2.000000</td>\n",
       "    </tr>\n",
       "    <tr>\n",
       "      <td>50%</td>\n",
       "      <td>0.000000</td>\n",
       "      <td>596.000000</td>\n",
       "      <td>19.000000</td>\n",
       "      <td>20.000000</td>\n",
       "      <td>32.000000</td>\n",
       "      <td>3.000000</td>\n",
       "    </tr>\n",
       "    <tr>\n",
       "      <td>75%</td>\n",
       "      <td>560.000000</td>\n",
       "      <td>921.000000</td>\n",
       "      <td>28.000000</td>\n",
       "      <td>47.000000</td>\n",
       "      <td>41.000000</td>\n",
       "      <td>4.000000</td>\n",
       "    </tr>\n",
       "    <tr>\n",
       "      <td>max</td>\n",
       "      <td>19812.000000</td>\n",
       "      <td>19811.000000</td>\n",
       "      <td>73.000000</td>\n",
       "      <td>119.000000</td>\n",
       "      <td>73.000000</td>\n",
       "      <td>4.000000</td>\n",
       "    </tr>\n",
       "  </tbody>\n",
       "</table>\n",
       "</div>"
      ],
      "text/plain": [
       "          Checking        Savings  Months Customer  Months Employed  \\\n",
       "count    425.000000    425.000000       425.000000       425.000000   \n",
       "mean    1048.014118   1812.562353        22.896471        31.896471   \n",
       "std     3147.183472   3597.285020        12.267599        32.259321   \n",
       "min        0.000000      0.000000         5.000000         0.000000   \n",
       "25%        0.000000    228.000000        13.000000         6.000000   \n",
       "50%        0.000000    596.000000        19.000000        20.000000   \n",
       "75%      560.000000    921.000000        28.000000        47.000000   \n",
       "max    19812.000000  19811.000000        73.000000       119.000000   \n",
       "\n",
       "              Age       Years  \n",
       "count  425.000000  425.000000  \n",
       "mean    34.397647    2.840000  \n",
       "std     11.045126    1.087146  \n",
       "min     18.000000    1.000000  \n",
       "25%     26.000000    2.000000  \n",
       "50%     32.000000    3.000000  \n",
       "75%     41.000000    4.000000  \n",
       "max     73.000000    4.000000  "
      ]
     },
     "execution_count": 33,
     "metadata": {},
     "output_type": "execute_result"
    }
   ],
   "source": [
    "num_data.describe()"
   ]
  },
  {
   "cell_type": "markdown",
   "metadata": {},
   "source": [
    "<h3>1. Is the total savings(combined checking and savings account balance) of Population 2800?</h3>\n",
    "<br>\n",
    "One population Mean Testing about Savings\n",
    "<br>\n",
    "sample mean = 2860.576471<br>\n",
    "sample std = 4826.993904\n",
    "\n",
    "\n",
    "H0 : μ=2800\n",
    "<br>\n",
    "H1 : μ≠2800"
   ]
  },
  {
   "cell_type": "code",
   "execution_count": 86,
   "metadata": {},
   "outputs": [],
   "source": [
    "import statsmodels.api as sm\n",
    "import numpy as np\n",
    "import pandas as pd"
   ]
  },
  {
   "cell_type": "code",
   "execution_count": 96,
   "metadata": {},
   "outputs": [],
   "source": [
    "savings_total = assign_data['saving_total']"
   ]
  },
  {
   "cell_type": "code",
   "execution_count": 97,
   "metadata": {},
   "outputs": [
    {
     "name": "stdout",
     "output_type": "stream",
     "text": [
      "The number of data :  425\n",
      "Sample Mean :  2860.576470588235\n",
      "Sample Std :  4826.993904117601\n"
     ]
    }
   ],
   "source": [
    "print('The number of data : ',len(savings_total))\n",
    "print('Sample Mean : ', savings_total.mean())\n",
    "print('Sample Std : ', savings_total.std())"
   ]
  },
  {
   "cell_type": "code",
   "execution_count": 98,
   "metadata": {},
   "outputs": [
    {
     "data": {
      "text/plain": [
       "(0.2587150425540816, 0.7958551123461524)"
      ]
     },
     "execution_count": 98,
     "metadata": {},
     "output_type": "execute_result"
    }
   ],
   "source": [
    "sm.stats.ztest(savings_total, value=2800, alternative='two-sided')"
   ]
  },
  {
   "cell_type": "markdown",
   "metadata": {},
   "source": [
    "<h5>P-value pretty high here, and then we can't reject the H0"
   ]
  },
  {
   "cell_type": "code",
   "execution_count": null,
   "metadata": {},
   "outputs": [],
   "source": []
  },
  {
   "cell_type": "markdown",
   "metadata": {},
   "source": [
    "<h3>2. Does the total savings(combined checking and savings account balance) have a correlation with the number of months as a customer of the bank?</h3>\n",
    "\n",
    "H0 : Two variables are not correlated.\n",
    "<br>\n",
    "H1 : Two variables are correlated."
   ]
  },
  {
   "cell_type": "code",
   "execution_count": 92,
   "metadata": {},
   "outputs": [],
   "source": [
    "from scipy.stats import pearsonr"
   ]
  },
  {
   "cell_type": "code",
   "execution_count": 93,
   "metadata": {},
   "outputs": [],
   "source": [
    "savings=assign_data['saving_total']"
   ]
  },
  {
   "cell_type": "code",
   "execution_count": 94,
   "metadata": {},
   "outputs": [],
   "source": [
    "months_customer=assign_data['Months Customer']"
   ]
  },
  {
   "cell_type": "code",
   "execution_count": 95,
   "metadata": {},
   "outputs": [
    {
     "data": {
      "image/png": "[encoded data removed]",
      "text/plain": [
       "<Figure size 432x288 with 1 Axes>"
      ]
     },
     "metadata": {
      "needs_background": "light"
     },
     "output_type": "display_data"
    }
   ],
   "source": [
    "ax1 = assign_data.plot.scatter(x='saving_total', y='Months Customer', c='DarkBlue')"
   ]
  },
  {
   "cell_type": "code",
   "execution_count": 90,
   "metadata": {},
   "outputs": [],
   "source": [
    "corr, p = pearsonr(savings, months_customer)"
   ]
  },
  {
   "cell_type": "code",
   "execution_count": 91,
   "metadata": {},
   "outputs": [
    {
     "name": "stdout",
     "output_type": "stream",
     "text": [
      "-0.06121000781711819 0.2079070784127837\n"
     ]
    }
   ],
   "source": [
    "print(corr, p)"
   ]
  },
  {
   "cell_type": "markdown",
   "metadata": {},
   "source": [
    "correlation coefficient = -0.06121000781711819 <br>\n",
    "p-value = 0.2079070784127837"
   ]
  },
  {
   "cell_type": "markdown",
   "metadata": {},
   "source": [
    "In this pearsonr function, The null hypothesis is that the two variables are uncorrelated. The p-value is a number between zero and one that represents the probability that your data would have arisen if the null hypothesis were true."
   ]
  },
  {
   "cell_type": "markdown",
   "metadata": {},
   "source": [
    "<h5>corr is near 0, and P-value is really big. <br>\n",
    "So, we cannot reject the null hypothesis(Uncorrelated)"
   ]
  },
  {
   "cell_type": "code",
   "execution_count": null,
   "metadata": {},
   "outputs": [],
   "source": []
  },
  {
   "cell_type": "markdown",
   "metadata": {},
   "source": [
    "<h3>Start pre-processing of Facebook Data</h3>"
   ]
  },
  {
   "cell_type": "code",
   "execution_count": 121,
   "metadata": {},
   "outputs": [],
   "source": [
    "df = pd.read_excel('Data_Sets.xlsx', 'Facebook')"
   ]
  },
  {
   "cell_type": "code",
   "execution_count": 117,
   "metadata": {},
   "outputs": [
    {
     "data": {
      "text/html": [
       "<div>\n",
       "<style scoped>\n",
       "    .dataframe tbody tr th:only-of-type {\n",
       "        vertical-align: middle;\n",
       "    }\n",
       "\n",
       "    .dataframe tbody tr th {\n",
       "        vertical-align: top;\n",
       "    }\n",
       "\n",
       "    .dataframe thead th {\n",
       "        text-align: right;\n",
       "    }\n",
       "</style>\n",
       "<table border=\"1\" class=\"dataframe\">\n",
       "  <thead>\n",
       "    <tr style=\"text-align: right;\">\n",
       "      <th></th>\n",
       "      <th>FACEBOOK SURVEY DATA</th>\n",
       "      <th>Unnamed: 1</th>\n",
       "      <th>Unnamed: 2</th>\n",
       "      <th>Unnamed: 3</th>\n",
       "    </tr>\n",
       "  </thead>\n",
       "  <tbody>\n",
       "    <tr>\n",
       "      <td>0</td>\n",
       "      <td>NaN</td>\n",
       "      <td>NaN</td>\n",
       "      <td>NaN</td>\n",
       "      <td>NaN</td>\n",
       "    </tr>\n",
       "    <tr>\n",
       "      <td>1</td>\n",
       "      <td>Student</td>\n",
       "      <td>Gender</td>\n",
       "      <td>Hours online/week</td>\n",
       "      <td>Friends</td>\n",
       "    </tr>\n",
       "    <tr>\n",
       "      <td>2</td>\n",
       "      <td>1</td>\n",
       "      <td>female</td>\n",
       "      <td>4</td>\n",
       "      <td>150</td>\n",
       "    </tr>\n",
       "    <tr>\n",
       "      <td>3</td>\n",
       "      <td>2</td>\n",
       "      <td>female</td>\n",
       "      <td>10</td>\n",
       "      <td>400</td>\n",
       "    </tr>\n",
       "    <tr>\n",
       "      <td>4</td>\n",
       "      <td>5</td>\n",
       "      <td>female</td>\n",
       "      <td>9</td>\n",
       "      <td>260</td>\n",
       "    </tr>\n",
       "  </tbody>\n",
       "</table>\n",
       "</div>"
      ],
      "text/plain": [
       "  FACEBOOK SURVEY DATA Unnamed: 1         Unnamed: 2 Unnamed: 3\n",
       "0                  NaN        NaN                NaN        NaN\n",
       "1              Student     Gender  Hours online/week    Friends\n",
       "2                    1     female                  4        150\n",
       "3                    2     female                 10        400\n",
       "4                    5     female                  9        260"
      ]
     },
     "execution_count": 117,
     "metadata": {},
     "output_type": "execute_result"
    }
   ],
   "source": [
    "df1=df\n",
    "df1.head()"
   ]
  },
  {
   "cell_type": "code",
   "execution_count": 118,
   "metadata": {},
   "outputs": [],
   "source": [
    "df1 = df1.shift(-1)"
   ]
  },
  {
   "cell_type": "code",
   "execution_count": 123,
   "metadata": {},
   "outputs": [],
   "source": [
    "new_col_names = pd.Series(df1.iloc[0])\n",
    "df1.columns=list(new_col_names)"
   ]
  },
  {
   "cell_type": "code",
   "execution_count": 124,
   "metadata": {},
   "outputs": [
    {
     "data": {
      "text/html": [
       "<div>\n",
       "<style scoped>\n",
       "    .dataframe tbody tr th:only-of-type {\n",
       "        vertical-align: middle;\n",
       "    }\n",
       "\n",
       "    .dataframe tbody tr th {\n",
       "        vertical-align: top;\n",
       "    }\n",
       "\n",
       "    .dataframe thead th {\n",
       "        text-align: right;\n",
       "    }\n",
       "</style>\n",
       "<table border=\"1\" class=\"dataframe\">\n",
       "  <thead>\n",
       "    <tr style=\"text-align: right;\">\n",
       "      <th></th>\n",
       "      <th>Student</th>\n",
       "      <th>Gender</th>\n",
       "      <th>Hours online/week</th>\n",
       "      <th>Friends</th>\n",
       "    </tr>\n",
       "  </thead>\n",
       "  <tbody>\n",
       "    <tr>\n",
       "      <td>1</td>\n",
       "      <td>1</td>\n",
       "      <td>female</td>\n",
       "      <td>4</td>\n",
       "      <td>150</td>\n",
       "    </tr>\n",
       "    <tr>\n",
       "      <td>2</td>\n",
       "      <td>2</td>\n",
       "      <td>female</td>\n",
       "      <td>10</td>\n",
       "      <td>400</td>\n",
       "    </tr>\n",
       "    <tr>\n",
       "      <td>3</td>\n",
       "      <td>5</td>\n",
       "      <td>female</td>\n",
       "      <td>9</td>\n",
       "      <td>260</td>\n",
       "    </tr>\n",
       "    <tr>\n",
       "      <td>4</td>\n",
       "      <td>6</td>\n",
       "      <td>female</td>\n",
       "      <td>5</td>\n",
       "      <td>70</td>\n",
       "    </tr>\n",
       "    <tr>\n",
       "      <td>5</td>\n",
       "      <td>7</td>\n",
       "      <td>female</td>\n",
       "      <td>7</td>\n",
       "      <td>90</td>\n",
       "    </tr>\n",
       "  </tbody>\n",
       "</table>\n",
       "</div>"
      ],
      "text/plain": [
       "  Student  Gender Hours online/week Friends\n",
       "1       1  female                 4     150\n",
       "2       2  female                10     400\n",
       "3       5  female                 9     260\n",
       "4       6  female                 5      70\n",
       "5       7  female                 7      90"
      ]
     },
     "execution_count": 124,
     "metadata": {},
     "output_type": "execute_result"
    }
   ],
   "source": [
    "df1=df1.drop(df1.index[0])\n",
    "df1=df1.drop(df1.index[33])\n",
    "df1.head()"
   ]
  },
  {
   "cell_type": "code",
   "execution_count": 109,
   "metadata": {},
   "outputs": [
    {
     "data": {
      "text/html": [
       "<div>\n",
       "<style scoped>\n",
       "    .dataframe tbody tr th:only-of-type {\n",
       "        vertical-align: middle;\n",
       "    }\n",
       "\n",
       "    .dataframe tbody tr th {\n",
       "        vertical-align: top;\n",
       "    }\n",
       "\n",
       "    .dataframe thead th {\n",
       "        text-align: right;\n",
       "    }\n",
       "</style>\n",
       "<table border=\"1\" class=\"dataframe\">\n",
       "  <thead>\n",
       "    <tr style=\"text-align: right;\">\n",
       "      <th></th>\n",
       "      <th>FACEBOOK SURVEY DATA</th>\n",
       "      <th>Unnamed: 1</th>\n",
       "      <th>Unnamed: 2</th>\n",
       "      <th>Unnamed: 3</th>\n",
       "    </tr>\n",
       "  </thead>\n",
       "  <tbody>\n",
       "    <tr>\n",
       "      <td>1</td>\n",
       "      <td>1</td>\n",
       "      <td>female</td>\n",
       "      <td>4</td>\n",
       "      <td>150</td>\n",
       "    </tr>\n",
       "    <tr>\n",
       "      <td>2</td>\n",
       "      <td>2</td>\n",
       "      <td>female</td>\n",
       "      <td>10</td>\n",
       "      <td>400</td>\n",
       "    </tr>\n",
       "    <tr>\n",
       "      <td>3</td>\n",
       "      <td>5</td>\n",
       "      <td>female</td>\n",
       "      <td>9</td>\n",
       "      <td>260</td>\n",
       "    </tr>\n",
       "    <tr>\n",
       "      <td>4</td>\n",
       "      <td>6</td>\n",
       "      <td>female</td>\n",
       "      <td>5</td>\n",
       "      <td>70</td>\n",
       "    </tr>\n",
       "    <tr>\n",
       "      <td>5</td>\n",
       "      <td>7</td>\n",
       "      <td>female</td>\n",
       "      <td>7</td>\n",
       "      <td>90</td>\n",
       "    </tr>\n",
       "  </tbody>\n",
       "</table>\n",
       "</div>"
      ],
      "text/plain": [
       "  FACEBOOK SURVEY DATA Unnamed: 1 Unnamed: 2 Unnamed: 3\n",
       "1                    1     female          4        150\n",
       "2                    2     female         10        400\n",
       "3                    5     female          9        260\n",
       "4                    6     female          5         70\n",
       "5                    7     female          7         90"
      ]
     },
     "execution_count": 109,
     "metadata": {},
     "output_type": "execute_result"
    }
   ],
   "source": [
    "df1=df1.drop(df1.index[0])\n",
    "df1=df1.drop(df1.index[33])\n",
    "df1.head()"
   ]
  },
  {
   "cell_type": "code",
   "execution_count": 126,
   "metadata": {},
   "outputs": [],
   "source": [
    "df2= df1.infer_objects()"
   ]
  },
  {
   "cell_type": "code",
   "execution_count": 129,
   "metadata": {},
   "outputs": [],
   "source": [
    "assign2_data = df2"
   ]
  },
  {
   "cell_type": "markdown",
   "metadata": {},
   "source": [
    "*Final version data after preprocessing = assign2_data*"
   ]
  },
  {
   "cell_type": "markdown",
   "metadata": {},
   "source": [
    "<h3>3. Does the Hours online/week have a correlation with Friends?</h3>\n",
    "\n",
    "\n",
    "H0 : Two variables are not correlated.\n",
    "<br>\n",
    "H1 : Two variables are correlated."
   ]
  },
  {
   "cell_type": "code",
   "execution_count": 130,
   "metadata": {},
   "outputs": [],
   "source": [
    "hours=assign2_data['Hours online/week']\n",
    "friends=assign2_data['Friends']"
   ]
  },
  {
   "cell_type": "code",
   "execution_count": 133,
   "metadata": {},
   "outputs": [
    {
     "name": "stderr",
     "output_type": "stream",
     "text": [
      "'c' argument looks like a single numeric RGB or RGBA sequence, which should be avoided as value-mapping will have precedence in case its length matches with 'x' & 'y'.  Please use a 2-D array with a single row if you really want to specify the same RGB or RGBA value for all points.\n"
     ]
    },
    {
     "data": {
      "text/plain": [
       "<matplotlib.axes._subplots.AxesSubplot at 0x1c22287c18>"
      ]
     },
     "execution_count": 133,
     "metadata": {},
     "output_type": "execute_result"
    },
    {
     "data": {
      "image/png": "[encoded data removed]",
      "text/plain": [
       "<Figure size 432x288 with 1 Axes>"
      ]
     },
     "metadata": {
      "needs_background": "light"
     },
     "output_type": "display_data"
    }
   ],
   "source": [
    "assgin2_data.plot.scatter(x='Hours online/week', y='Friends')"
   ]
  },
  {
   "cell_type": "code",
   "execution_count": 134,
   "metadata": {},
   "outputs": [],
   "source": [
    "corr, p = pearsonr(hours, friends)"
   ]
  },
  {
   "cell_type": "code",
   "execution_count": 135,
   "metadata": {},
   "outputs": [
    {
     "name": "stdout",
     "output_type": "stream",
     "text": [
      "0.6918339795143523 8.224280934770067e-06\n"
     ]
    }
   ],
   "source": [
    "print(corr, p)"
   ]
  },
  {
   "cell_type": "markdown",
   "metadata": {},
   "source": [
    "Correlation is about 0.7, and p-value is 8.22e-06(So Low). <br>\n",
    "So, We can reject the null hypothesis(No-correlation)\n",
    "This two data can be positively-correlated."
   ]
  }
 ],
 "metadata": {
  "kernelspec": {
   "display_name": "Python 3",
   "language": "python",
   "name": "python3"
  },
  "language_info": {
   "codemirror_mode": {
    "name": "ipython",
    "version": 3
   },
   "file_extension": ".py",
   "mimetype": "text/x-python",
   "name": "python",
   "nbconvert_exporter": "python",
   "pygments_lexer": "ipython3",
   "version": "3.6.9"
  }
 },
 "nbformat": 4,
 "nbformat_minor": 2
}
