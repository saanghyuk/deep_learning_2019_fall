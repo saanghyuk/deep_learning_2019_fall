{
 "cells": [
  {
   "cell_type": "markdown",
   "metadata": {},
   "source": [
    "**<h1>Midterm Homework<h1>**\n",
    "<h4>2012100249 SANGHYUK SON<br></h4>\n",
    "\n",
    "The Excel file Credit Risk Data provides information about bank customers who had applied for loans. The data include the purpose of the loan, checking(Interest X) and savings account balances(Interest O), number of months as a customer of the bank, months employed, gender, marital status, age, housing status and number of years at current residence, job type, and credit-risk classification by the bank.(for Wk1-3)<br>"
   ]
  },
  {
   "cell_type": "markdown",
   "metadata": {},
   "source": [
    "First, I will do pre-processing the data in order to analyze it. "
   ]
  },
  {
   "cell_type": "code",
   "execution_count": 1,
   "metadata": {},
   "outputs": [],
   "source": [
    "import pandas as pd\n",
    "import numpy as np\n",
    "import matplotlib.pyplot as plt\n",
    "import matplotlib as mpl\n",
    "from pandas.plotting import scatter_matrix\n",
    "import seaborn as sns\n",
    "sns.set(style=\"ticks\", color_codes=True)\n",
    "\n",
    "%matplotlib inline\n",
    "\n",
    "\n",
    "\n",
    "mpl.rcParams['axes.unicode_minus'] = False"
   ]
  },
  {
   "cell_type": "code",
   "execution_count": 2,
   "metadata": {},
   "outputs": [],
   "source": [
    "credit_df = pd.read_excel('Data_Sets.xlsx')"
   ]
  },
  {
   "cell_type": "code",
   "execution_count": 3,
   "metadata": {},
   "outputs": [],
   "source": [
    "credit_df1 = credit_df"
   ]
  },
  {
   "cell_type": "code",
   "execution_count": 4,
   "metadata": {},
   "outputs": [],
   "source": [
    "col_list=list(credit_df1.columns.values)"
   ]
  },
  {
   "cell_type": "code",
   "execution_count": 5,
   "metadata": {},
   "outputs": [],
   "source": [
    "credit_df1.drop([col_list[13], col_list[14], col_list[15]], inplace=True, axis=1)\n"
   ]
  },
  {
   "cell_type": "code",
   "execution_count": 6,
   "metadata": {},
   "outputs": [],
   "source": [
    "credit_df1 = credit_df1.shift(-1)"
   ]
  },
  {
   "cell_type": "code",
   "execution_count": 7,
   "metadata": {},
   "outputs": [],
   "source": [
    "new_col_names = pd.Series(credit_df1.iloc[0])"
   ]
  },
  {
   "cell_type": "code",
   "execution_count": 8,
   "metadata": {},
   "outputs": [
    {
     "data": {
      "text/plain": [
       "Unnamed: 0             Entry Number\n",
       "Credit Risk Data       Loan Purpose\n",
       "Unnamed: 2                Checking \n",
       "Unnamed: 3                  Savings\n",
       "Unnamed: 4          Months Customer\n",
       "Unnamed: 5          Months Employed\n",
       "Unnamed: 6                   Gender\n",
       "Unnamed: 7           Marital Status\n",
       "Unnamed: 8                      Age\n",
       "Unnamed: 9                  Housing\n",
       "Unnamed: 10                   Years\n",
       "Unnamed: 11                     Job\n",
       "Unnamed: 12             Credit Risk\n",
       "Name: 0, dtype: object"
      ]
     },
     "execution_count": 8,
     "metadata": {},
     "output_type": "execute_result"
    }
   ],
   "source": [
    "new_col_names"
   ]
  },
  {
   "cell_type": "code",
   "execution_count": 9,
   "metadata": {},
   "outputs": [],
   "source": [
    "credit_df1.columns = list(new_col_names)"
   ]
  },
  {
   "cell_type": "code",
   "execution_count": 10,
   "metadata": {},
   "outputs": [
    {
     "data": {
      "text/plain": [
       "Index(['Entry Number', 'Loan Purpose', 'Checking ', 'Savings',\n",
       "       'Months Customer', 'Months Employed', 'Gender', 'Marital Status', 'Age',\n",
       "       'Housing', 'Years', 'Job', 'Credit Risk'],\n",
       "      dtype='object')"
      ]
     },
     "execution_count": 10,
     "metadata": {},
     "output_type": "execute_result"
    }
   ],
   "source": [
    "credit_df1.columns"
   ]
  },
  {
   "cell_type": "code",
   "execution_count": 11,
   "metadata": {},
   "outputs": [],
   "source": [
    "credit_df1=credit_df1.drop(credit_df1.index[0])"
   ]
  },
  {
   "cell_type": "code",
   "execution_count": 12,
   "metadata": {},
   "outputs": [],
   "source": [
    "credit_df1=credit_df1.drop(credit_df1.index[425])"
   ]
  },
  {
   "cell_type": "code",
   "execution_count": 13,
   "metadata": {},
   "outputs": [
    {
     "data": {
      "text/html": [
       "<div>\n",
       "<style scoped>\n",
       "    .dataframe tbody tr th:only-of-type {\n",
       "        vertical-align: middle;\n",
       "    }\n",
       "\n",
       "    .dataframe tbody tr th {\n",
       "        vertical-align: top;\n",
       "    }\n",
       "\n",
       "    .dataframe thead th {\n",
       "        text-align: right;\n",
       "    }\n",
       "</style>\n",
       "<table border=\"1\" class=\"dataframe\">\n",
       "  <thead>\n",
       "    <tr style=\"text-align: right;\">\n",
       "      <th></th>\n",
       "      <th>Entry Number</th>\n",
       "      <th>Loan Purpose</th>\n",
       "      <th>Checking</th>\n",
       "      <th>Savings</th>\n",
       "      <th>Months Customer</th>\n",
       "      <th>Months Employed</th>\n",
       "      <th>Gender</th>\n",
       "      <th>Marital Status</th>\n",
       "      <th>Age</th>\n",
       "      <th>Housing</th>\n",
       "      <th>Years</th>\n",
       "      <th>Job</th>\n",
       "      <th>Credit Risk</th>\n",
       "    </tr>\n",
       "  </thead>\n",
       "  <tbody>\n",
       "    <tr>\n",
       "      <td>1</td>\n",
       "      <td>1</td>\n",
       "      <td>Small Appliance</td>\n",
       "      <td>0</td>\n",
       "      <td>739</td>\n",
       "      <td>13</td>\n",
       "      <td>12</td>\n",
       "      <td>M</td>\n",
       "      <td>Single</td>\n",
       "      <td>23</td>\n",
       "      <td>Own</td>\n",
       "      <td>3</td>\n",
       "      <td>Unskilled</td>\n",
       "      <td>Low</td>\n",
       "    </tr>\n",
       "    <tr>\n",
       "      <td>2</td>\n",
       "      <td>2</td>\n",
       "      <td>Furniture</td>\n",
       "      <td>0</td>\n",
       "      <td>1230</td>\n",
       "      <td>25</td>\n",
       "      <td>0</td>\n",
       "      <td>M</td>\n",
       "      <td>Divorced</td>\n",
       "      <td>32</td>\n",
       "      <td>Own</td>\n",
       "      <td>1</td>\n",
       "      <td>Skilled</td>\n",
       "      <td>High</td>\n",
       "    </tr>\n",
       "    <tr>\n",
       "      <td>3</td>\n",
       "      <td>3</td>\n",
       "      <td>New Car</td>\n",
       "      <td>0</td>\n",
       "      <td>389</td>\n",
       "      <td>19</td>\n",
       "      <td>119</td>\n",
       "      <td>M</td>\n",
       "      <td>Single</td>\n",
       "      <td>38</td>\n",
       "      <td>Own</td>\n",
       "      <td>4</td>\n",
       "      <td>Management</td>\n",
       "      <td>High</td>\n",
       "    </tr>\n",
       "    <tr>\n",
       "      <td>4</td>\n",
       "      <td>4</td>\n",
       "      <td>Furniture</td>\n",
       "      <td>638</td>\n",
       "      <td>347</td>\n",
       "      <td>13</td>\n",
       "      <td>14</td>\n",
       "      <td>M</td>\n",
       "      <td>Single</td>\n",
       "      <td>36</td>\n",
       "      <td>Own</td>\n",
       "      <td>2</td>\n",
       "      <td>Unskilled</td>\n",
       "      <td>High</td>\n",
       "    </tr>\n",
       "    <tr>\n",
       "      <td>5</td>\n",
       "      <td>5</td>\n",
       "      <td>Education</td>\n",
       "      <td>963</td>\n",
       "      <td>4754</td>\n",
       "      <td>40</td>\n",
       "      <td>45</td>\n",
       "      <td>M</td>\n",
       "      <td>Single</td>\n",
       "      <td>31</td>\n",
       "      <td>Rent</td>\n",
       "      <td>3</td>\n",
       "      <td>Skilled</td>\n",
       "      <td>Low</td>\n",
       "    </tr>\n",
       "    <tr>\n",
       "      <td>...</td>\n",
       "      <td>...</td>\n",
       "      <td>...</td>\n",
       "      <td>...</td>\n",
       "      <td>...</td>\n",
       "      <td>...</td>\n",
       "      <td>...</td>\n",
       "      <td>...</td>\n",
       "      <td>...</td>\n",
       "      <td>...</td>\n",
       "      <td>...</td>\n",
       "      <td>...</td>\n",
       "      <td>...</td>\n",
       "      <td>...</td>\n",
       "    </tr>\n",
       "    <tr>\n",
       "      <td>421</td>\n",
       "      <td>421</td>\n",
       "      <td>Small Appliance</td>\n",
       "      <td>497</td>\n",
       "      <td>0</td>\n",
       "      <td>7</td>\n",
       "      <td>51</td>\n",
       "      <td>M</td>\n",
       "      <td>Single</td>\n",
       "      <td>35</td>\n",
       "      <td>Other</td>\n",
       "      <td>4</td>\n",
       "      <td>Skilled</td>\n",
       "      <td>Low</td>\n",
       "    </tr>\n",
       "    <tr>\n",
       "      <td>422</td>\n",
       "      <td>422</td>\n",
       "      <td>Furniture</td>\n",
       "      <td>0</td>\n",
       "      <td>0</td>\n",
       "      <td>31</td>\n",
       "      <td>53</td>\n",
       "      <td>M</td>\n",
       "      <td>Single</td>\n",
       "      <td>30</td>\n",
       "      <td>Own</td>\n",
       "      <td>4</td>\n",
       "      <td>Skilled</td>\n",
       "      <td>High</td>\n",
       "    </tr>\n",
       "    <tr>\n",
       "      <td>423</td>\n",
       "      <td>423</td>\n",
       "      <td>New Car</td>\n",
       "      <td>0</td>\n",
       "      <td>0</td>\n",
       "      <td>25</td>\n",
       "      <td>103</td>\n",
       "      <td>F</td>\n",
       "      <td>Divorced</td>\n",
       "      <td>28</td>\n",
       "      <td>Own</td>\n",
       "      <td>2</td>\n",
       "      <td>Skilled</td>\n",
       "      <td>High</td>\n",
       "    </tr>\n",
       "    <tr>\n",
       "      <td>424</td>\n",
       "      <td>424</td>\n",
       "      <td>New Car</td>\n",
       "      <td>0</td>\n",
       "      <td>712</td>\n",
       "      <td>16</td>\n",
       "      <td>6</td>\n",
       "      <td>F</td>\n",
       "      <td>Divorced</td>\n",
       "      <td>28</td>\n",
       "      <td>Own</td>\n",
       "      <td>2</td>\n",
       "      <td>Skilled</td>\n",
       "      <td>High</td>\n",
       "    </tr>\n",
       "    <tr>\n",
       "      <td>425</td>\n",
       "      <td>425</td>\n",
       "      <td>New Car</td>\n",
       "      <td>0</td>\n",
       "      <td>912</td>\n",
       "      <td>7</td>\n",
       "      <td>39</td>\n",
       "      <td>M</td>\n",
       "      <td>Single</td>\n",
       "      <td>44</td>\n",
       "      <td>Own</td>\n",
       "      <td>3</td>\n",
       "      <td>Management</td>\n",
       "      <td>Low</td>\n",
       "    </tr>\n",
       "  </tbody>\n",
       "</table>\n",
       "<p>425 rows × 13 columns</p>\n",
       "</div>"
      ],
      "text/plain": [
       "    Entry Number     Loan Purpose Checking  Savings Months Customer  \\\n",
       "1              1  Small Appliance         0     739              13   \n",
       "2              2        Furniture         0    1230              25   \n",
       "3              3          New Car         0     389              19   \n",
       "4              4        Furniture       638     347              13   \n",
       "5              5        Education       963    4754              40   \n",
       "..           ...              ...       ...     ...             ...   \n",
       "421          421  Small Appliance       497       0               7   \n",
       "422          422        Furniture         0       0              31   \n",
       "423          423          New Car         0       0              25   \n",
       "424          424          New Car         0     712              16   \n",
       "425          425          New Car         0     912               7   \n",
       "\n",
       "    Months Employed Gender Marital Status Age Housing Years         Job  \\\n",
       "1                12      M         Single  23     Own     3   Unskilled   \n",
       "2                 0      M       Divorced  32     Own     1     Skilled   \n",
       "3               119      M         Single  38     Own     4  Management   \n",
       "4                14      M         Single  36     Own     2   Unskilled   \n",
       "5                45      M         Single  31    Rent     3     Skilled   \n",
       "..              ...    ...            ...  ..     ...   ...         ...   \n",
       "421              51      M         Single  35   Other     4     Skilled   \n",
       "422              53      M         Single  30     Own     4     Skilled   \n",
       "423             103      F       Divorced  28     Own     2     Skilled   \n",
       "424               6      F       Divorced  28     Own     2     Skilled   \n",
       "425              39      M         Single  44     Own     3  Management   \n",
       "\n",
       "    Credit Risk  \n",
       "1           Low  \n",
       "2          High  \n",
       "3          High  \n",
       "4          High  \n",
       "5           Low  \n",
       "..          ...  \n",
       "421         Low  \n",
       "422        High  \n",
       "423        High  \n",
       "424        High  \n",
       "425         Low  \n",
       "\n",
       "[425 rows x 13 columns]"
      ]
     },
     "execution_count": 13,
     "metadata": {},
     "output_type": "execute_result"
    }
   ],
   "source": [
    "credit_df1"
   ]
  },
  {
   "cell_type": "code",
   "execution_count": 14,
   "metadata": {},
   "outputs": [
    {
     "data": {
      "text/html": [
       "<div>\n",
       "<style scoped>\n",
       "    .dataframe tbody tr th:only-of-type {\n",
       "        vertical-align: middle;\n",
       "    }\n",
       "\n",
       "    .dataframe tbody tr th {\n",
       "        vertical-align: top;\n",
       "    }\n",
       "\n",
       "    .dataframe thead th {\n",
       "        text-align: right;\n",
       "    }\n",
       "</style>\n",
       "<table border=\"1\" class=\"dataframe\">\n",
       "  <thead>\n",
       "    <tr style=\"text-align: right;\">\n",
       "      <th></th>\n",
       "      <th>Entry Number</th>\n",
       "      <th>Loan Purpose</th>\n",
       "      <th>Checking</th>\n",
       "      <th>Savings</th>\n",
       "      <th>Months Customer</th>\n",
       "      <th>Months Employed</th>\n",
       "      <th>Gender</th>\n",
       "      <th>Marital Status</th>\n",
       "      <th>Age</th>\n",
       "      <th>Housing</th>\n",
       "      <th>Years</th>\n",
       "      <th>Job</th>\n",
       "      <th>Credit Risk</th>\n",
       "    </tr>\n",
       "  </thead>\n",
       "  <tbody>\n",
       "    <tr>\n",
       "      <td>1</td>\n",
       "      <td>False</td>\n",
       "      <td>False</td>\n",
       "      <td>False</td>\n",
       "      <td>False</td>\n",
       "      <td>False</td>\n",
       "      <td>False</td>\n",
       "      <td>False</td>\n",
       "      <td>False</td>\n",
       "      <td>False</td>\n",
       "      <td>False</td>\n",
       "      <td>False</td>\n",
       "      <td>False</td>\n",
       "      <td>False</td>\n",
       "    </tr>\n",
       "    <tr>\n",
       "      <td>2</td>\n",
       "      <td>False</td>\n",
       "      <td>False</td>\n",
       "      <td>False</td>\n",
       "      <td>False</td>\n",
       "      <td>False</td>\n",
       "      <td>False</td>\n",
       "      <td>False</td>\n",
       "      <td>False</td>\n",
       "      <td>False</td>\n",
       "      <td>False</td>\n",
       "      <td>False</td>\n",
       "      <td>False</td>\n",
       "      <td>False</td>\n",
       "    </tr>\n",
       "    <tr>\n",
       "      <td>3</td>\n",
       "      <td>False</td>\n",
       "      <td>False</td>\n",
       "      <td>False</td>\n",
       "      <td>False</td>\n",
       "      <td>False</td>\n",
       "      <td>False</td>\n",
       "      <td>False</td>\n",
       "      <td>False</td>\n",
       "      <td>False</td>\n",
       "      <td>False</td>\n",
       "      <td>False</td>\n",
       "      <td>False</td>\n",
       "      <td>False</td>\n",
       "    </tr>\n",
       "    <tr>\n",
       "      <td>4</td>\n",
       "      <td>False</td>\n",
       "      <td>False</td>\n",
       "      <td>False</td>\n",
       "      <td>False</td>\n",
       "      <td>False</td>\n",
       "      <td>False</td>\n",
       "      <td>False</td>\n",
       "      <td>False</td>\n",
       "      <td>False</td>\n",
       "      <td>False</td>\n",
       "      <td>False</td>\n",
       "      <td>False</td>\n",
       "      <td>False</td>\n",
       "    </tr>\n",
       "    <tr>\n",
       "      <td>5</td>\n",
       "      <td>False</td>\n",
       "      <td>False</td>\n",
       "      <td>False</td>\n",
       "      <td>False</td>\n",
       "      <td>False</td>\n",
       "      <td>False</td>\n",
       "      <td>False</td>\n",
       "      <td>False</td>\n",
       "      <td>False</td>\n",
       "      <td>False</td>\n",
       "      <td>False</td>\n",
       "      <td>False</td>\n",
       "      <td>False</td>\n",
       "    </tr>\n",
       "    <tr>\n",
       "      <td>...</td>\n",
       "      <td>...</td>\n",
       "      <td>...</td>\n",
       "      <td>...</td>\n",
       "      <td>...</td>\n",
       "      <td>...</td>\n",
       "      <td>...</td>\n",
       "      <td>...</td>\n",
       "      <td>...</td>\n",
       "      <td>...</td>\n",
       "      <td>...</td>\n",
       "      <td>...</td>\n",
       "      <td>...</td>\n",
       "      <td>...</td>\n",
       "    </tr>\n",
       "    <tr>\n",
       "      <td>421</td>\n",
       "      <td>False</td>\n",
       "      <td>False</td>\n",
       "      <td>False</td>\n",
       "      <td>False</td>\n",
       "      <td>False</td>\n",
       "      <td>False</td>\n",
       "      <td>False</td>\n",
       "      <td>False</td>\n",
       "      <td>False</td>\n",
       "      <td>False</td>\n",
       "      <td>False</td>\n",
       "      <td>False</td>\n",
       "      <td>False</td>\n",
       "    </tr>\n",
       "    <tr>\n",
       "      <td>422</td>\n",
       "      <td>False</td>\n",
       "      <td>False</td>\n",
       "      <td>False</td>\n",
       "      <td>False</td>\n",
       "      <td>False</td>\n",
       "      <td>False</td>\n",
       "      <td>False</td>\n",
       "      <td>False</td>\n",
       "      <td>False</td>\n",
       "      <td>False</td>\n",
       "      <td>False</td>\n",
       "      <td>False</td>\n",
       "      <td>False</td>\n",
       "    </tr>\n",
       "    <tr>\n",
       "      <td>423</td>\n",
       "      <td>False</td>\n",
       "      <td>False</td>\n",
       "      <td>False</td>\n",
       "      <td>False</td>\n",
       "      <td>False</td>\n",
       "      <td>False</td>\n",
       "      <td>False</td>\n",
       "      <td>False</td>\n",
       "      <td>False</td>\n",
       "      <td>False</td>\n",
       "      <td>False</td>\n",
       "      <td>False</td>\n",
       "      <td>False</td>\n",
       "    </tr>\n",
       "    <tr>\n",
       "      <td>424</td>\n",
       "      <td>False</td>\n",
       "      <td>False</td>\n",
       "      <td>False</td>\n",
       "      <td>False</td>\n",
       "      <td>False</td>\n",
       "      <td>False</td>\n",
       "      <td>False</td>\n",
       "      <td>False</td>\n",
       "      <td>False</td>\n",
       "      <td>False</td>\n",
       "      <td>False</td>\n",
       "      <td>False</td>\n",
       "      <td>False</td>\n",
       "    </tr>\n",
       "    <tr>\n",
       "      <td>425</td>\n",
       "      <td>False</td>\n",
       "      <td>False</td>\n",
       "      <td>False</td>\n",
       "      <td>False</td>\n",
       "      <td>False</td>\n",
       "      <td>False</td>\n",
       "      <td>False</td>\n",
       "      <td>False</td>\n",
       "      <td>False</td>\n",
       "      <td>False</td>\n",
       "      <td>False</td>\n",
       "      <td>False</td>\n",
       "      <td>False</td>\n",
       "    </tr>\n",
       "  </tbody>\n",
       "</table>\n",
       "<p>425 rows × 13 columns</p>\n",
       "</div>"
      ],
      "text/plain": [
       "     Entry Number  Loan Purpose  Checking   Savings  Months Customer  \\\n",
       "1           False         False      False    False            False   \n",
       "2           False         False      False    False            False   \n",
       "3           False         False      False    False            False   \n",
       "4           False         False      False    False            False   \n",
       "5           False         False      False    False            False   \n",
       "..            ...           ...        ...      ...              ...   \n",
       "421         False         False      False    False            False   \n",
       "422         False         False      False    False            False   \n",
       "423         False         False      False    False            False   \n",
       "424         False         False      False    False            False   \n",
       "425         False         False      False    False            False   \n",
       "\n",
       "     Months Employed  Gender  Marital Status    Age  Housing  Years    Job  \\\n",
       "1              False   False           False  False    False  False  False   \n",
       "2              False   False           False  False    False  False  False   \n",
       "3              False   False           False  False    False  False  False   \n",
       "4              False   False           False  False    False  False  False   \n",
       "5              False   False           False  False    False  False  False   \n",
       "..               ...     ...             ...    ...      ...    ...    ...   \n",
       "421            False   False           False  False    False  False  False   \n",
       "422            False   False           False  False    False  False  False   \n",
       "423            False   False           False  False    False  False  False   \n",
       "424            False   False           False  False    False  False  False   \n",
       "425            False   False           False  False    False  False  False   \n",
       "\n",
       "     Credit Risk  \n",
       "1          False  \n",
       "2          False  \n",
       "3          False  \n",
       "4          False  \n",
       "5          False  \n",
       "..           ...  \n",
       "421        False  \n",
       "422        False  \n",
       "423        False  \n",
       "424        False  \n",
       "425        False  \n",
       "\n",
       "[425 rows x 13 columns]"
      ]
     },
     "execution_count": 14,
     "metadata": {},
     "output_type": "execute_result"
    }
   ],
   "source": [
    "credit_df1.isnull()"
   ]
  },
  {
   "cell_type": "code",
   "execution_count": 15,
   "metadata": {},
   "outputs": [
    {
     "data": {
      "text/plain": [
       "Entry Number       0\n",
       "Loan Purpose       0\n",
       "Checking           0\n",
       "Savings            0\n",
       "Months Customer    0\n",
       "Months Employed    0\n",
       "Gender             0\n",
       "Marital Status     0\n",
       "Age                0\n",
       "Housing            0\n",
       "Years              0\n",
       "Job                0\n",
       "Credit Risk        0\n",
       "dtype: int64"
      ]
     },
     "execution_count": 15,
     "metadata": {},
     "output_type": "execute_result"
    }
   ],
   "source": [
    "credit_df1.isnull().sum()"
   ]
  },
  {
   "cell_type": "code",
   "execution_count": 16,
   "metadata": {},
   "outputs": [],
   "source": [
    "del credit_df1['Entry Number']"
   ]
  },
  {
   "cell_type": "code",
   "execution_count": 17,
   "metadata": {},
   "outputs": [
    {
     "data": {
      "text/html": [
       "<div>\n",
       "<style scoped>\n",
       "    .dataframe tbody tr th:only-of-type {\n",
       "        vertical-align: middle;\n",
       "    }\n",
       "\n",
       "    .dataframe tbody tr th {\n",
       "        vertical-align: top;\n",
       "    }\n",
       "\n",
       "    .dataframe thead th {\n",
       "        text-align: right;\n",
       "    }\n",
       "</style>\n",
       "<table border=\"1\" class=\"dataframe\">\n",
       "  <thead>\n",
       "    <tr style=\"text-align: right;\">\n",
       "      <th></th>\n",
       "      <th>Loan Purpose</th>\n",
       "      <th>Checking</th>\n",
       "      <th>Savings</th>\n",
       "      <th>Months Customer</th>\n",
       "      <th>Months Employed</th>\n",
       "      <th>Gender</th>\n",
       "      <th>Marital Status</th>\n",
       "      <th>Age</th>\n",
       "      <th>Housing</th>\n",
       "      <th>Years</th>\n",
       "      <th>Job</th>\n",
       "      <th>Credit Risk</th>\n",
       "    </tr>\n",
       "  </thead>\n",
       "  <tbody>\n",
       "    <tr>\n",
       "      <td>1</td>\n",
       "      <td>Small Appliance</td>\n",
       "      <td>0</td>\n",
       "      <td>739</td>\n",
       "      <td>13</td>\n",
       "      <td>12</td>\n",
       "      <td>M</td>\n",
       "      <td>Single</td>\n",
       "      <td>23</td>\n",
       "      <td>Own</td>\n",
       "      <td>3</td>\n",
       "      <td>Unskilled</td>\n",
       "      <td>Low</td>\n",
       "    </tr>\n",
       "    <tr>\n",
       "      <td>2</td>\n",
       "      <td>Furniture</td>\n",
       "      <td>0</td>\n",
       "      <td>1230</td>\n",
       "      <td>25</td>\n",
       "      <td>0</td>\n",
       "      <td>M</td>\n",
       "      <td>Divorced</td>\n",
       "      <td>32</td>\n",
       "      <td>Own</td>\n",
       "      <td>1</td>\n",
       "      <td>Skilled</td>\n",
       "      <td>High</td>\n",
       "    </tr>\n",
       "    <tr>\n",
       "      <td>3</td>\n",
       "      <td>New Car</td>\n",
       "      <td>0</td>\n",
       "      <td>389</td>\n",
       "      <td>19</td>\n",
       "      <td>119</td>\n",
       "      <td>M</td>\n",
       "      <td>Single</td>\n",
       "      <td>38</td>\n",
       "      <td>Own</td>\n",
       "      <td>4</td>\n",
       "      <td>Management</td>\n",
       "      <td>High</td>\n",
       "    </tr>\n",
       "    <tr>\n",
       "      <td>4</td>\n",
       "      <td>Furniture</td>\n",
       "      <td>638</td>\n",
       "      <td>347</td>\n",
       "      <td>13</td>\n",
       "      <td>14</td>\n",
       "      <td>M</td>\n",
       "      <td>Single</td>\n",
       "      <td>36</td>\n",
       "      <td>Own</td>\n",
       "      <td>2</td>\n",
       "      <td>Unskilled</td>\n",
       "      <td>High</td>\n",
       "    </tr>\n",
       "    <tr>\n",
       "      <td>5</td>\n",
       "      <td>Education</td>\n",
       "      <td>963</td>\n",
       "      <td>4754</td>\n",
       "      <td>40</td>\n",
       "      <td>45</td>\n",
       "      <td>M</td>\n",
       "      <td>Single</td>\n",
       "      <td>31</td>\n",
       "      <td>Rent</td>\n",
       "      <td>3</td>\n",
       "      <td>Skilled</td>\n",
       "      <td>Low</td>\n",
       "    </tr>\n",
       "    <tr>\n",
       "      <td>...</td>\n",
       "      <td>...</td>\n",
       "      <td>...</td>\n",
       "      <td>...</td>\n",
       "      <td>...</td>\n",
       "      <td>...</td>\n",
       "      <td>...</td>\n",
       "      <td>...</td>\n",
       "      <td>...</td>\n",
       "      <td>...</td>\n",
       "      <td>...</td>\n",
       "      <td>...</td>\n",
       "      <td>...</td>\n",
       "    </tr>\n",
       "    <tr>\n",
       "      <td>421</td>\n",
       "      <td>Small Appliance</td>\n",
       "      <td>497</td>\n",
       "      <td>0</td>\n",
       "      <td>7</td>\n",
       "      <td>51</td>\n",
       "      <td>M</td>\n",
       "      <td>Single</td>\n",
       "      <td>35</td>\n",
       "      <td>Other</td>\n",
       "      <td>4</td>\n",
       "      <td>Skilled</td>\n",
       "      <td>Low</td>\n",
       "    </tr>\n",
       "    <tr>\n",
       "      <td>422</td>\n",
       "      <td>Furniture</td>\n",
       "      <td>0</td>\n",
       "      <td>0</td>\n",
       "      <td>31</td>\n",
       "      <td>53</td>\n",
       "      <td>M</td>\n",
       "      <td>Single</td>\n",
       "      <td>30</td>\n",
       "      <td>Own</td>\n",
       "      <td>4</td>\n",
       "      <td>Skilled</td>\n",
       "      <td>High</td>\n",
       "    </tr>\n",
       "    <tr>\n",
       "      <td>423</td>\n",
       "      <td>New Car</td>\n",
       "      <td>0</td>\n",
       "      <td>0</td>\n",
       "      <td>25</td>\n",
       "      <td>103</td>\n",
       "      <td>F</td>\n",
       "      <td>Divorced</td>\n",
       "      <td>28</td>\n",
       "      <td>Own</td>\n",
       "      <td>2</td>\n",
       "      <td>Skilled</td>\n",
       "      <td>High</td>\n",
       "    </tr>\n",
       "    <tr>\n",
       "      <td>424</td>\n",
       "      <td>New Car</td>\n",
       "      <td>0</td>\n",
       "      <td>712</td>\n",
       "      <td>16</td>\n",
       "      <td>6</td>\n",
       "      <td>F</td>\n",
       "      <td>Divorced</td>\n",
       "      <td>28</td>\n",
       "      <td>Own</td>\n",
       "      <td>2</td>\n",
       "      <td>Skilled</td>\n",
       "      <td>High</td>\n",
       "    </tr>\n",
       "    <tr>\n",
       "      <td>425</td>\n",
       "      <td>New Car</td>\n",
       "      <td>0</td>\n",
       "      <td>912</td>\n",
       "      <td>7</td>\n",
       "      <td>39</td>\n",
       "      <td>M</td>\n",
       "      <td>Single</td>\n",
       "      <td>44</td>\n",
       "      <td>Own</td>\n",
       "      <td>3</td>\n",
       "      <td>Management</td>\n",
       "      <td>Low</td>\n",
       "    </tr>\n",
       "  </tbody>\n",
       "</table>\n",
       "<p>425 rows × 12 columns</p>\n",
       "</div>"
      ],
      "text/plain": [
       "        Loan Purpose Checking  Savings Months Customer Months Employed Gender  \\\n",
       "1    Small Appliance         0     739              13              12      M   \n",
       "2          Furniture         0    1230              25               0      M   \n",
       "3            New Car         0     389              19             119      M   \n",
       "4          Furniture       638     347              13              14      M   \n",
       "5          Education       963    4754              40              45      M   \n",
       "..               ...       ...     ...             ...             ...    ...   \n",
       "421  Small Appliance       497       0               7              51      M   \n",
       "422        Furniture         0       0              31              53      M   \n",
       "423          New Car         0       0              25             103      F   \n",
       "424          New Car         0     712              16               6      F   \n",
       "425          New Car         0     912               7              39      M   \n",
       "\n",
       "    Marital Status Age Housing Years         Job Credit Risk  \n",
       "1           Single  23     Own     3   Unskilled         Low  \n",
       "2         Divorced  32     Own     1     Skilled        High  \n",
       "3           Single  38     Own     4  Management        High  \n",
       "4           Single  36     Own     2   Unskilled        High  \n",
       "5           Single  31    Rent     3     Skilled         Low  \n",
       "..             ...  ..     ...   ...         ...         ...  \n",
       "421         Single  35   Other     4     Skilled         Low  \n",
       "422         Single  30     Own     4     Skilled        High  \n",
       "423       Divorced  28     Own     2     Skilled        High  \n",
       "424       Divorced  28     Own     2     Skilled        High  \n",
       "425         Single  44     Own     3  Management         Low  \n",
       "\n",
       "[425 rows x 12 columns]"
      ]
     },
     "execution_count": 17,
     "metadata": {},
     "output_type": "execute_result"
    }
   ],
   "source": [
    "credit_df1"
   ]
  },
  {
   "cell_type": "code",
   "execution_count": 18,
   "metadata": {},
   "outputs": [],
   "source": [
    "credit_df1['balance'] = credit_df1['Checking ']+credit_df1['Savings']"
   ]
  },
  {
   "cell_type": "code",
   "execution_count": 19,
   "metadata": {},
   "outputs": [
    {
     "data": {
      "text/plain": [
       "1       739\n",
       "2      1230\n",
       "3       389\n",
       "4       985\n",
       "5      5717\n",
       "       ... \n",
       "421     497\n",
       "422       0\n",
       "423       0\n",
       "424     712\n",
       "425     912\n",
       "Name: balance, Length: 425, dtype: object"
      ]
     },
     "execution_count": 19,
     "metadata": {},
     "output_type": "execute_result"
    }
   ],
   "source": [
    "credit_df1['balance']"
   ]
  },
  {
   "cell_type": "code",
   "execution_count": null,
   "metadata": {},
   "outputs": [],
   "source": []
  },
  {
   "cell_type": "markdown",
   "metadata": {},
   "source": [
    "### We're ready to explore the Data. "
   ]
  },
  {
   "cell_type": "markdown",
   "metadata": {},
   "source": [
    "<h3>I) </h3>"
   ]
  },
  {
   "cell_type": "markdown",
   "metadata": {},
   "source": [
    "<h4>Q1. Determine the number of customers with checking account balances less than $500</h4>"
   ]
  },
  {
   "cell_type": "code",
   "execution_count": 78,
   "metadata": {},
   "outputs": [],
   "source": [
    "checking = credit_df1['Checking ']"
   ]
  },
  {
   "cell_type": "code",
   "execution_count": 79,
   "metadata": {},
   "outputs": [
    {
     "name": "stdout",
     "output_type": "stream",
     "text": [
      "The number of customers with checking account balaces less than $500 is  312\n"
     ]
    }
   ],
   "source": [
    "#method 1, use for loop\n",
    "count1=0;\n",
    "for i in checking:\n",
    "    if i<500:\n",
    "        count1+=1\n",
    "                \n",
    "print(\"The number of customers with checking account balaces less than $500 is \", count1)\n"
   ]
  },
  {
   "cell_type": "code",
   "execution_count": 80,
   "metadata": {},
   "outputs": [],
   "source": [
    "#method 2, use conditional checking of dataframe, just one line code\n",
    "count2=credit_df1[credit_df1['Checking ']  < 500].count()[0]"
   ]
  },
  {
   "cell_type": "code",
   "execution_count": 81,
   "metadata": {},
   "outputs": [
    {
     "data": {
      "text/plain": [
       "312"
      ]
     },
     "execution_count": 81,
     "metadata": {},
     "output_type": "execute_result"
    }
   ],
   "source": [
    "count2 #same with method1"
   ]
  },
  {
   "cell_type": "code",
   "execution_count": 82,
   "metadata": {},
   "outputs": [],
   "source": [
    "balance=credit_df1['balance']"
   ]
  },
  {
   "cell_type": "markdown",
   "metadata": {},
   "source": [
    "<h4>Q2. Modify the spreadsheet using IF functions to include new columns, classifying the checking and savings account balances as \"low\" if the balance is less thatn $250, \"medium\" if between $250 but less than $2000, and \"high\" otherwise</h4>"
   ]
  },
  {
   "cell_type": "code",
   "execution_count": 83,
   "metadata": {},
   "outputs": [],
   "source": [
    "#by using for loop, if conditional.\n",
    "classify_list=[]\n",
    "for i in balance:\n",
    "    if i<250:\n",
    "        classify_list.append(\"low\")\n",
    "    elif i<2000:\n",
    "        classify_list.append(\"medium\")\n",
    "    else:\n",
    "        classify_list.append(\"high\")\n",
    "        "
   ]
  },
  {
   "cell_type": "code",
   "execution_count": 84,
   "metadata": {
    "scrolled": true
   },
   "outputs": [],
   "source": [
    "classify_series1= pd.Series(classify_list)"
   ]
  },
  {
   "cell_type": "code",
   "execution_count": 85,
   "metadata": {},
   "outputs": [
    {
     "name": "stdout",
     "output_type": "stream",
     "text": [
      "1      medium\n",
      "2      medium\n",
      "3      medium\n",
      "4      medium\n",
      "5        high\n",
      "        ...  \n",
      "421    medium\n",
      "422       low\n",
      "423       low\n",
      "424    medium\n",
      "425    medium\n",
      "Name: balance, Length: 425, dtype: object\n"
     ]
    }
   ],
   "source": [
    "#method 2\n",
    "#by using pandas CUT function\n",
    "bins = [-np.inf, 250, 2000, np.inf]\n",
    "labels = ['low', 'medium', 'high']\n",
    "classify_category=pd.cut(balance, bins, bins, labels)\n",
    "classify_series2 = classify_category.astype('str')\n",
    "print(classify_series2)"
   ]
  },
  {
   "cell_type": "code",
   "execution_count": 86,
   "metadata": {},
   "outputs": [],
   "source": [
    "#first one is from index 0, second one is from index 1, \n",
    "#so I've just done two columns to start index from same number 0.\n",
    "classify_series2.index=np.arange(0, len(classify_series2))"
   ]
  },
  {
   "cell_type": "code",
   "execution_count": 87,
   "metadata": {},
   "outputs": [
    {
     "data": {
      "text/html": [
       "<div>\n",
       "<style scoped>\n",
       "    .dataframe tbody tr th:only-of-type {\n",
       "        vertical-align: middle;\n",
       "    }\n",
       "\n",
       "    .dataframe tbody tr th {\n",
       "        vertical-align: top;\n",
       "    }\n",
       "\n",
       "    .dataframe thead th {\n",
       "        text-align: right;\n",
       "    }\n",
       "</style>\n",
       "<table border=\"1\" class=\"dataframe\">\n",
       "  <thead>\n",
       "    <tr style=\"text-align: right;\">\n",
       "      <th></th>\n",
       "      <th>Method1</th>\n",
       "      <th>Method2</th>\n",
       "    </tr>\n",
       "  </thead>\n",
       "  <tbody>\n",
       "    <tr>\n",
       "      <td>0</td>\n",
       "      <td>medium</td>\n",
       "      <td>medium</td>\n",
       "    </tr>\n",
       "    <tr>\n",
       "      <td>1</td>\n",
       "      <td>medium</td>\n",
       "      <td>medium</td>\n",
       "    </tr>\n",
       "    <tr>\n",
       "      <td>2</td>\n",
       "      <td>medium</td>\n",
       "      <td>medium</td>\n",
       "    </tr>\n",
       "    <tr>\n",
       "      <td>3</td>\n",
       "      <td>medium</td>\n",
       "      <td>medium</td>\n",
       "    </tr>\n",
       "    <tr>\n",
       "      <td>4</td>\n",
       "      <td>high</td>\n",
       "      <td>high</td>\n",
       "    </tr>\n",
       "    <tr>\n",
       "      <td>...</td>\n",
       "      <td>...</td>\n",
       "      <td>...</td>\n",
       "    </tr>\n",
       "    <tr>\n",
       "      <td>420</td>\n",
       "      <td>medium</td>\n",
       "      <td>medium</td>\n",
       "    </tr>\n",
       "    <tr>\n",
       "      <td>421</td>\n",
       "      <td>low</td>\n",
       "      <td>low</td>\n",
       "    </tr>\n",
       "    <tr>\n",
       "      <td>422</td>\n",
       "      <td>low</td>\n",
       "      <td>low</td>\n",
       "    </tr>\n",
       "    <tr>\n",
       "      <td>423</td>\n",
       "      <td>medium</td>\n",
       "      <td>medium</td>\n",
       "    </tr>\n",
       "    <tr>\n",
       "      <td>424</td>\n",
       "      <td>medium</td>\n",
       "      <td>medium</td>\n",
       "    </tr>\n",
       "  </tbody>\n",
       "</table>\n",
       "<p>425 rows × 2 columns</p>\n",
       "</div>"
      ],
      "text/plain": [
       "    Method1 Method2\n",
       "0    medium  medium\n",
       "1    medium  medium\n",
       "2    medium  medium\n",
       "3    medium  medium\n",
       "4      high    high\n",
       "..      ...     ...\n",
       "420  medium  medium\n",
       "421     low     low\n",
       "422     low     low\n",
       "423  medium  medium\n",
       "424  medium  medium\n",
       "\n",
       "[425 rows x 2 columns]"
      ]
     },
     "execution_count": 87,
     "metadata": {},
     "output_type": "execute_result"
    }
   ],
   "source": [
    "two_results = pd.concat([classify_series1, classify_series2], axis=1)\n",
    "two_results.columns=[\"Method1\", \"Method2\"]\n",
    "two_results"
   ]
  },
  {
   "cell_type": "code",
   "execution_count": 88,
   "metadata": {},
   "outputs": [
    {
     "data": {
      "text/plain": [
       "True"
      ]
     },
     "execution_count": 88,
     "metadata": {},
     "output_type": "execute_result"
    }
   ],
   "source": [
    "# I want to check two methods give me same results\n",
    "#I ask to program that \"two series are equal?\"\n",
    "two_results['Method1'].equals(two_results['Method2'])\n",
    "#He said \"YES\""
   ]
  },
  {
   "cell_type": "markdown",
   "metadata": {},
   "source": [
    "<h4>Q3. Compute the combined checking and savigs account balance for each record in the database. Then sort the records by the number of months as a customer of the bank. From examining the data, does it appear that customers with a longer association with the bank have more assets? Construct a scatter plot to illustrate. </h4>"
   ]
  },
  {
   "cell_type": "code",
   "execution_count": null,
   "metadata": {},
   "outputs": [],
   "source": []
  },
  {
   "cell_type": "code",
   "execution_count": 89,
   "metadata": {},
   "outputs": [],
   "source": [
    "balance = credit_df1['balance']\n",
    "months = credit_df1['Months Customer']\n",
    "credit_df1=credit_df1.infer_objects()"
   ]
  },
  {
   "cell_type": "code",
   "execution_count": 90,
   "metadata": {},
   "outputs": [
    {
     "name": "stderr",
     "output_type": "stream",
     "text": [
      "'c' argument looks like a single numeric RGB or RGBA sequence, which should be avoided as value-mapping will have precedence in case its length matches with 'x' & 'y'.  Please use a 2-D array with a single row if you really want to specify the same RGB or RGBA value for all points.\n"
     ]
    },
    {
     "data": {
      "text/plain": [
       "<matplotlib.axes._subplots.AxesSubplot at 0x1a1ac5e5c0>"
      ]
     },
     "execution_count": 90,
     "metadata": {},
     "output_type": "execute_result"
    },
    {
     "data": {
      "image/png": "[encoded data removed]",
      "text/plain": [
       "<Figure size 432x288 with 1 Axes>"
      ]
     },
     "metadata": {
      "needs_background": "light"
     },
     "output_type": "display_data"
    }
   ],
   "source": [
    "credit_df1.plot.scatter(x='Months Customer', y='balance')"
   ]
  },
  {
   "cell_type": "code",
   "execution_count": 91,
   "metadata": {},
   "outputs": [
    {
     "data": {
      "text/plain": [
       "-0.06121000781711817"
      ]
     },
     "execution_count": 91,
     "metadata": {},
     "output_type": "execute_result"
    }
   ],
   "source": [
    "#The Pearson Correlation\n",
    "np.corrcoef(months, balance)[0, 1]"
   ]
  },
  {
   "cell_type": "markdown",
   "metadata": {},
   "source": [
    "<h4>Q4. Compute the correlation between i) Age and months employed; ii) age and combined checking and saving account balance; iii)the number of months as a customer and amount of money in the bank. Interpret your results to a layperson. </h4>"
   ]
  },
  {
   "cell_type": "code",
   "execution_count": 92,
   "metadata": {},
   "outputs": [
    {
     "data": {
      "text/plain": [
       "Index(['Loan Purpose', 'Checking ', 'Savings', 'Months Customer',\n",
       "       'Months Employed', 'Gender', 'Marital Status', 'Age', 'Housing',\n",
       "       'Years', 'Job', 'Credit Risk', 'balance'],\n",
       "      dtype='object')"
      ]
     },
     "execution_count": 92,
     "metadata": {},
     "output_type": "execute_result"
    }
   ],
   "source": [
    "credit_df1.columns"
   ]
  },
  {
   "cell_type": "code",
   "execution_count": 93,
   "metadata": {},
   "outputs": [
    {
     "name": "stdout",
     "output_type": "stream",
     "text": [
      "the correlation between Age and months employed is  0.30679852918801265\n"
     ]
    }
   ],
   "source": [
    "corr1=np.corrcoef(credit_df1['Age'], credit_df1['Months Employed'])[0, 1]\n",
    "print(\"the correlation between Age and months employed is \", corr1 )"
   ]
  },
  {
   "cell_type": "code",
   "execution_count": 94,
   "metadata": {},
   "outputs": [
    {
     "name": "stdout",
     "output_type": "stream",
     "text": [
      "the correlation between Age and combined checking and saving account balance is  -0.02262464503547316\n"
     ]
    }
   ],
   "source": [
    "corr2 = np.corrcoef(credit_df1['Age'], credit_df1['balance'])[0, 1]\n",
    "print(\"the correlation between Age and combined checking and saving account balance is \", corr2 )"
   ]
  },
  {
   "cell_type": "code",
   "execution_count": 95,
   "metadata": {},
   "outputs": [
    {
     "name": "stdout",
     "output_type": "stream",
     "text": [
      "the correlation between the number of months as a customer and amount of money in the bank is  -0.06121000781711817\n"
     ]
    }
   ],
   "source": [
    "corr3= np.corrcoef(credit_df1['Months Customer'], credit_df1['balance'])[0, 1]\n",
    "print(\"the correlation between the number of months as a customer and amount of money in the bank is \", corr3 )\n"
   ]
  },
  {
   "cell_type": "markdown",
   "metadata": {},
   "source": [
    "Correlation refers to a technique used to measure the relationship between two or more variables. When two things are correlated, it means that they vary together.Positive correlation means that high scores on one are associated with high scores on the other, and that low scores on one are associated with low scores on the other. Negative correlation, on the other hand, means that high scores on the first thing are associated with low scores on the second. Negative correlation also means that low scores on the first are associated with high scores on the second. "
   ]
  },
  {
   "cell_type": "markdown",
   "metadata": {},
   "source": [
    "Generally speacking, \n",
    "we can see the abosolute value of Correlation Coefficient to interpret the value. \n",
    "\n",
    "| Correlation Coefficient(absolute value) | Interpretation        |\n",
    "| --------------------------------------- | --------------------- |\n",
    "| up to \\|0.2\\|                           | very low correlation  |\n",
    "| up to \\|0.5\\|                           | low correlation       |\n",
    "| up to \\|0.7\\|                           | moderate correlation  |\n",
    "| up to \\|0.9\\|                           | high correlation      |\n",
    "| above \\|0.9\\|                           | very high correlation |\n"
   ]
  },
  {
   "cell_type": "markdown",
   "metadata": {},
   "source": [
    "- The correlation between *Age* and *months employed* is 0.30679852918801265. <br>\n",
    "    So, we can think that these two values have low correlation.<br><br>\n",
    "\n",
    "- The correlation between *Age* and *combined checking and saving account balance* is  -0.02262464503547316<br>\n",
    "    So, we can think that these two values have nearly little correlation.<br><br>\n",
    "\n",
    "- The correlation between *the number of months as a customer* and *amount of money* in the bank is  -0.06121000781711817\n",
    "    So, we can think that these two values have nearly little correlation.<br><br>"
   ]
  },
  {
   "cell_type": "markdown",
   "metadata": {},
   "source": [
    "<h4>Q5.Number the rows in the Excel file *Credit Risk Data* to identify each record. The bank wants to sample from this database to conduct a more detail audit. Find a simple random sample of 20 unique records. </h4>"
   ]
  },
  {
   "cell_type": "markdown",
   "metadata": {},
   "source": [
    "I will use inner function in Pandas Framework to smaple from *Credit Risk Data*.  "
   ]
  },
  {
   "cell_type": "code",
   "execution_count": 96,
   "metadata": {},
   "outputs": [],
   "source": [
    "sample = credit_df1.sample(n=20)"
   ]
  },
  {
   "cell_type": "code",
   "execution_count": 97,
   "metadata": {},
   "outputs": [
    {
     "data": {
      "text/html": [
       "<div>\n",
       "<style scoped>\n",
       "    .dataframe tbody tr th:only-of-type {\n",
       "        vertical-align: middle;\n",
       "    }\n",
       "\n",
       "    .dataframe tbody tr th {\n",
       "        vertical-align: top;\n",
       "    }\n",
       "\n",
       "    .dataframe thead th {\n",
       "        text-align: right;\n",
       "    }\n",
       "</style>\n",
       "<table border=\"1\" class=\"dataframe\">\n",
       "  <thead>\n",
       "    <tr style=\"text-align: right;\">\n",
       "      <th></th>\n",
       "      <th>Loan Purpose</th>\n",
       "      <th>Checking</th>\n",
       "      <th>Savings</th>\n",
       "      <th>Months Customer</th>\n",
       "      <th>Months Employed</th>\n",
       "      <th>Gender</th>\n",
       "      <th>Marital Status</th>\n",
       "      <th>Age</th>\n",
       "      <th>Housing</th>\n",
       "      <th>Years</th>\n",
       "      <th>Job</th>\n",
       "      <th>Credit Risk</th>\n",
       "      <th>balance</th>\n",
       "    </tr>\n",
       "  </thead>\n",
       "  <tbody>\n",
       "    <tr>\n",
       "      <td>416</td>\n",
       "      <td>Used Car</td>\n",
       "      <td>0</td>\n",
       "      <td>160</td>\n",
       "      <td>13</td>\n",
       "      <td>7</td>\n",
       "      <td>M</td>\n",
       "      <td>Married</td>\n",
       "      <td>40</td>\n",
       "      <td>Rent</td>\n",
       "      <td>4</td>\n",
       "      <td>Skilled</td>\n",
       "      <td>Low</td>\n",
       "      <td>160</td>\n",
       "    </tr>\n",
       "    <tr>\n",
       "      <td>95</td>\n",
       "      <td>Small Appliance</td>\n",
       "      <td>0</td>\n",
       "      <td>710</td>\n",
       "      <td>25</td>\n",
       "      <td>1</td>\n",
       "      <td>F</td>\n",
       "      <td>Divorced</td>\n",
       "      <td>37</td>\n",
       "      <td>Own</td>\n",
       "      <td>3</td>\n",
       "      <td>Skilled</td>\n",
       "      <td>Low</td>\n",
       "      <td>710</td>\n",
       "    </tr>\n",
       "    <tr>\n",
       "      <td>85</td>\n",
       "      <td>New Car</td>\n",
       "      <td>0</td>\n",
       "      <td>759</td>\n",
       "      <td>16</td>\n",
       "      <td>59</td>\n",
       "      <td>M</td>\n",
       "      <td>Single</td>\n",
       "      <td>32</td>\n",
       "      <td>Rent</td>\n",
       "      <td>3</td>\n",
       "      <td>Skilled</td>\n",
       "      <td>High</td>\n",
       "      <td>759</td>\n",
       "    </tr>\n",
       "    <tr>\n",
       "      <td>146</td>\n",
       "      <td>Repairs</td>\n",
       "      <td>0</td>\n",
       "      <td>609</td>\n",
       "      <td>31</td>\n",
       "      <td>3</td>\n",
       "      <td>M</td>\n",
       "      <td>Divorced</td>\n",
       "      <td>33</td>\n",
       "      <td>Own</td>\n",
       "      <td>1</td>\n",
       "      <td>Unskilled</td>\n",
       "      <td>High</td>\n",
       "      <td>609</td>\n",
       "    </tr>\n",
       "    <tr>\n",
       "      <td>221</td>\n",
       "      <td>Large Appliance</td>\n",
       "      <td>0</td>\n",
       "      <td>1238</td>\n",
       "      <td>13</td>\n",
       "      <td>0</td>\n",
       "      <td>F</td>\n",
       "      <td>Divorced</td>\n",
       "      <td>21</td>\n",
       "      <td>Own</td>\n",
       "      <td>3</td>\n",
       "      <td>Skilled</td>\n",
       "      <td>High</td>\n",
       "      <td>1238</td>\n",
       "    </tr>\n",
       "    <tr>\n",
       "      <td>81</td>\n",
       "      <td>New Car</td>\n",
       "      <td>0</td>\n",
       "      <td>904</td>\n",
       "      <td>12</td>\n",
       "      <td>6</td>\n",
       "      <td>M</td>\n",
       "      <td>Single</td>\n",
       "      <td>38</td>\n",
       "      <td>Own</td>\n",
       "      <td>4</td>\n",
       "      <td>Unskilled</td>\n",
       "      <td>Low</td>\n",
       "      <td>904</td>\n",
       "    </tr>\n",
       "    <tr>\n",
       "      <td>211</td>\n",
       "      <td>Small Appliance</td>\n",
       "      <td>0</td>\n",
       "      <td>418</td>\n",
       "      <td>19</td>\n",
       "      <td>4</td>\n",
       "      <td>M</td>\n",
       "      <td>Single</td>\n",
       "      <td>31</td>\n",
       "      <td>Own</td>\n",
       "      <td>2</td>\n",
       "      <td>Skilled</td>\n",
       "      <td>Low</td>\n",
       "      <td>418</td>\n",
       "    </tr>\n",
       "    <tr>\n",
       "      <td>148</td>\n",
       "      <td>Furniture</td>\n",
       "      <td>192</td>\n",
       "      <td>199</td>\n",
       "      <td>25</td>\n",
       "      <td>5</td>\n",
       "      <td>F</td>\n",
       "      <td>Divorced</td>\n",
       "      <td>24</td>\n",
       "      <td>Own</td>\n",
       "      <td>4</td>\n",
       "      <td>Unskilled</td>\n",
       "      <td>High</td>\n",
       "      <td>391</td>\n",
       "    </tr>\n",
       "    <tr>\n",
       "      <td>119</td>\n",
       "      <td>Large Appliance</td>\n",
       "      <td>0</td>\n",
       "      <td>409</td>\n",
       "      <td>49</td>\n",
       "      <td>15</td>\n",
       "      <td>M</td>\n",
       "      <td>Single</td>\n",
       "      <td>53</td>\n",
       "      <td>Own</td>\n",
       "      <td>4</td>\n",
       "      <td>Skilled</td>\n",
       "      <td>High</td>\n",
       "      <td>409</td>\n",
       "    </tr>\n",
       "    <tr>\n",
       "      <td>10</td>\n",
       "      <td>Small Appliance</td>\n",
       "      <td>966</td>\n",
       "      <td>0</td>\n",
       "      <td>25</td>\n",
       "      <td>4</td>\n",
       "      <td>F</td>\n",
       "      <td>Divorced</td>\n",
       "      <td>43</td>\n",
       "      <td>Own</td>\n",
       "      <td>1</td>\n",
       "      <td>Skilled</td>\n",
       "      <td>High</td>\n",
       "      <td>966</td>\n",
       "    </tr>\n",
       "    <tr>\n",
       "      <td>127</td>\n",
       "      <td>New Car</td>\n",
       "      <td>889</td>\n",
       "      <td>1583</td>\n",
       "      <td>37</td>\n",
       "      <td>79</td>\n",
       "      <td>M</td>\n",
       "      <td>Single</td>\n",
       "      <td>29</td>\n",
       "      <td>Other</td>\n",
       "      <td>3</td>\n",
       "      <td>Skilled</td>\n",
       "      <td>Low</td>\n",
       "      <td>2472</td>\n",
       "    </tr>\n",
       "    <tr>\n",
       "      <td>358</td>\n",
       "      <td>Repairs</td>\n",
       "      <td>0</td>\n",
       "      <td>2688</td>\n",
       "      <td>10</td>\n",
       "      <td>89</td>\n",
       "      <td>M</td>\n",
       "      <td>Single</td>\n",
       "      <td>47</td>\n",
       "      <td>Own</td>\n",
       "      <td>4</td>\n",
       "      <td>Skilled</td>\n",
       "      <td>Low</td>\n",
       "      <td>2688</td>\n",
       "    </tr>\n",
       "    <tr>\n",
       "      <td>208</td>\n",
       "      <td>Other</td>\n",
       "      <td>560</td>\n",
       "      <td>887</td>\n",
       "      <td>25</td>\n",
       "      <td>20</td>\n",
       "      <td>M</td>\n",
       "      <td>Single</td>\n",
       "      <td>38</td>\n",
       "      <td>Own</td>\n",
       "      <td>3</td>\n",
       "      <td>Management</td>\n",
       "      <td>High</td>\n",
       "      <td>1447</td>\n",
       "    </tr>\n",
       "    <tr>\n",
       "      <td>111</td>\n",
       "      <td>Small Appliance</td>\n",
       "      <td>6851</td>\n",
       "      <td>901</td>\n",
       "      <td>13</td>\n",
       "      <td>21</td>\n",
       "      <td>F</td>\n",
       "      <td>Divorced</td>\n",
       "      <td>43</td>\n",
       "      <td>Rent</td>\n",
       "      <td>2</td>\n",
       "      <td>Unskilled</td>\n",
       "      <td>Low</td>\n",
       "      <td>7752</td>\n",
       "    </tr>\n",
       "    <tr>\n",
       "      <td>285</td>\n",
       "      <td>New Car</td>\n",
       "      <td>8060</td>\n",
       "      <td>607</td>\n",
       "      <td>19</td>\n",
       "      <td>71</td>\n",
       "      <td>F</td>\n",
       "      <td>Divorced</td>\n",
       "      <td>22</td>\n",
       "      <td>Own</td>\n",
       "      <td>2</td>\n",
       "      <td>Management</td>\n",
       "      <td>Low</td>\n",
       "      <td>8667</td>\n",
       "    </tr>\n",
       "    <tr>\n",
       "      <td>179</td>\n",
       "      <td>New Car</td>\n",
       "      <td>0</td>\n",
       "      <td>886</td>\n",
       "      <td>22</td>\n",
       "      <td>96</td>\n",
       "      <td>M</td>\n",
       "      <td>Single</td>\n",
       "      <td>64</td>\n",
       "      <td>Own</td>\n",
       "      <td>4</td>\n",
       "      <td>Skilled</td>\n",
       "      <td>Low</td>\n",
       "      <td>886</td>\n",
       "    </tr>\n",
       "    <tr>\n",
       "      <td>55</td>\n",
       "      <td>Used Car</td>\n",
       "      <td>0</td>\n",
       "      <td>789</td>\n",
       "      <td>25</td>\n",
       "      <td>28</td>\n",
       "      <td>M</td>\n",
       "      <td>Single</td>\n",
       "      <td>37</td>\n",
       "      <td>Own</td>\n",
       "      <td>3</td>\n",
       "      <td>Management</td>\n",
       "      <td>Low</td>\n",
       "      <td>789</td>\n",
       "    </tr>\n",
       "    <tr>\n",
       "      <td>368</td>\n",
       "      <td>Furniture</td>\n",
       "      <td>0</td>\n",
       "      <td>146</td>\n",
       "      <td>25</td>\n",
       "      <td>46</td>\n",
       "      <td>M</td>\n",
       "      <td>Single</td>\n",
       "      <td>26</td>\n",
       "      <td>Own</td>\n",
       "      <td>4</td>\n",
       "      <td>Skilled</td>\n",
       "      <td>High</td>\n",
       "      <td>146</td>\n",
       "    </tr>\n",
       "    <tr>\n",
       "      <td>151</td>\n",
       "      <td>Used Car</td>\n",
       "      <td>0</td>\n",
       "      <td>270</td>\n",
       "      <td>25</td>\n",
       "      <td>25</td>\n",
       "      <td>M</td>\n",
       "      <td>Single</td>\n",
       "      <td>34</td>\n",
       "      <td>Own</td>\n",
       "      <td>3</td>\n",
       "      <td>Skilled</td>\n",
       "      <td>Low</td>\n",
       "      <td>270</td>\n",
       "    </tr>\n",
       "    <tr>\n",
       "      <td>42</td>\n",
       "      <td>Used Car</td>\n",
       "      <td>0</td>\n",
       "      <td>109</td>\n",
       "      <td>25</td>\n",
       "      <td>26</td>\n",
       "      <td>M</td>\n",
       "      <td>Single</td>\n",
       "      <td>34</td>\n",
       "      <td>Own</td>\n",
       "      <td>3</td>\n",
       "      <td>Unskilled</td>\n",
       "      <td>Low</td>\n",
       "      <td>109</td>\n",
       "    </tr>\n",
       "  </tbody>\n",
       "</table>\n",
       "</div>"
      ],
      "text/plain": [
       "        Loan Purpose  Checking   Savings  Months Customer  Months Employed  \\\n",
       "416         Used Car          0      160               13                7   \n",
       "95   Small Appliance          0      710               25                1   \n",
       "85           New Car          0      759               16               59   \n",
       "146          Repairs          0      609               31                3   \n",
       "221  Large Appliance          0     1238               13                0   \n",
       "81           New Car          0      904               12                6   \n",
       "211  Small Appliance          0      418               19                4   \n",
       "148        Furniture        192      199               25                5   \n",
       "119  Large Appliance          0      409               49               15   \n",
       "10   Small Appliance        966        0               25                4   \n",
       "127          New Car        889     1583               37               79   \n",
       "358          Repairs          0     2688               10               89   \n",
       "208            Other        560      887               25               20   \n",
       "111  Small Appliance       6851      901               13               21   \n",
       "285          New Car       8060      607               19               71   \n",
       "179          New Car          0      886               22               96   \n",
       "55          Used Car          0      789               25               28   \n",
       "368        Furniture          0      146               25               46   \n",
       "151         Used Car          0      270               25               25   \n",
       "42          Used Car          0      109               25               26   \n",
       "\n",
       "    Gender Marital Status  Age Housing  Years         Job Credit Risk  balance  \n",
       "416      M        Married   40    Rent      4     Skilled         Low      160  \n",
       "95       F       Divorced   37     Own      3     Skilled         Low      710  \n",
       "85       M         Single   32    Rent      3     Skilled        High      759  \n",
       "146      M       Divorced   33     Own      1   Unskilled        High      609  \n",
       "221      F       Divorced   21     Own      3     Skilled        High     1238  \n",
       "81       M         Single   38     Own      4   Unskilled         Low      904  \n",
       "211      M         Single   31     Own      2     Skilled         Low      418  \n",
       "148      F       Divorced   24     Own      4   Unskilled        High      391  \n",
       "119      M         Single   53     Own      4     Skilled        High      409  \n",
       "10       F       Divorced   43     Own      1     Skilled        High      966  \n",
       "127      M         Single   29   Other      3     Skilled         Low     2472  \n",
       "358      M         Single   47     Own      4     Skilled         Low     2688  \n",
       "208      M         Single   38     Own      3  Management        High     1447  \n",
       "111      F       Divorced   43    Rent      2   Unskilled         Low     7752  \n",
       "285      F       Divorced   22     Own      2  Management         Low     8667  \n",
       "179      M         Single   64     Own      4     Skilled         Low      886  \n",
       "55       M         Single   37     Own      3  Management         Low      789  \n",
       "368      M         Single   26     Own      4     Skilled        High      146  \n",
       "151      M         Single   34     Own      3     Skilled         Low      270  \n",
       "42       M         Single   34     Own      3   Unskilled         Low      109  "
      ]
     },
     "execution_count": 97,
     "metadata": {},
     "output_type": "execute_result"
    }
   ],
   "source": [
    "sample"
   ]
  },
  {
   "cell_type": "markdown",
   "metadata": {},
   "source": [
    "<h4>Q6: Treating the records in the database as a population, use your sample from question 5): i) compute 95% and 99% confidence intervals for the total assets held in the bank by loan applicants. Explain the differences to a layperson as the level of confidence increases; ii) how do your confidence invervals differ if you assume that the population standard deviation is not known but estimated using your sample data. </h4>"
   ]
  },
  {
   "cell_type": "code",
   "execution_count": 101,
   "metadata": {},
   "outputs": [],
   "source": [
    "#To do some calculation, I have to import another python library called scipy\n",
    "import scipy.stats\n",
    "from scipy.stats import norm\n",
    "import matplotlib.pyplot as plt"
   ]
  },
  {
   "cell_type": "code",
   "execution_count": 102,
   "metadata": {},
   "outputs": [
    {
     "data": {
      "image/png": "[encoded data removed]",
      "text/plain": [
       "<Figure size 432x288 with 1 Axes>"
      ]
     },
     "metadata": {
      "needs_background": "light"
     },
     "output_type": "display_data"
    }
   ],
   "source": [
    "#population graph\n",
    "hist = credit_df1['balance'].hist()"
   ]
  },
  {
   "cell_type": "code",
   "execution_count": 103,
   "metadata": {},
   "outputs": [],
   "source": [
    "sample_balance = sample.balance"
   ]
  },
  {
   "cell_type": "markdown",
   "metadata": {},
   "source": [
    "<h5> i ) I will use Z-test</h5>\n",
    "We can use Z-test because of assumption that we know the population variance. <br>\n",
    "But, I'm worrying about that the size of sample is so small."
   ]
  },
  {
   "cell_type": "code",
   "execution_count": 104,
   "metadata": {},
   "outputs": [
    {
     "name": "stdout",
     "output_type": "stream",
     "text": [
      "z-critical value: 1.959963984540054\n",
      "0.95 Confidence interval: (-525.9844800924157, 3704.9844800924157)\n",
      "z-critical value: 2.5758293035489004\n",
      "0.99 Confidence interval: (-1190.7178805360572, 4369.717880536057)\n"
     ]
    }
   ],
   "source": [
    "confidence = [0.95, 0.99]\n",
    "sample_size = 20\n",
    "population_stv = credit_df1['balance'].std()\n",
    "sample_mean = sample_balance.mean()\n",
    "\n",
    "for i in confidence:    \n",
    "    confidence = i\n",
    "    z_critical = scipy.stats.norm.ppf(q = confidence + (1 - confidence) / 2)\n",
    "    print('z-critical value:', z_critical)                     \n",
    "\n",
    "    pop_stdev = population_stv\n",
    "    margin_of_error = z_critical * (pop_stdev / np.sqrt(sample_size))\n",
    "    confint = sample_mean - margin_of_error, sample_mean + margin_of_error\n",
    "\n",
    "    print(confidence, 'Confidence interval:', confint)"
   ]
  },
  {
   "cell_type": "markdown",
   "metadata": {},
   "source": [
    "<h5>Explain the Confidence Interval</h5>\n",
    "A Confidence Interval is a range of values we are fairly sure our true value lies in.<br>\n",
    "Assume that we sample from the population, and calculate the confidence interval for 100 times. \n",
    "\n",
    "In 0.95 confidence interval, It is likely that 95 of the 100 confidence intervals will contain the real population mean. \n",
    "\n",
    "In 0.99 confidence interval, It is likely that 99 of the 100 confidence intervals will contain the real population mean. "
   ]
  },
  {
   "cell_type": "markdown",
   "metadata": {},
   "source": [
    "<h5> ii ) I will use t-test</h5>\n",
    "We can use t-test because of assumption that we don't know the population variance. <br>\n",
    "But, I'm worrying about that the population distribution is not Normal Distribution. "
   ]
  },
  {
   "cell_type": "code",
   "execution_count": 105,
   "metadata": {},
   "outputs": [
    {
     "name": "stdout",
     "output_type": "stream",
     "text": [
      "Mean: 1589.500000\n",
      "Confidence Interval 95%: 479.489221, 2699.510779\n",
      "Mean: 1589.500000\n",
      "Confidence Interval 99%: 72.236859, 3106.763141\n"
     ]
    }
   ],
   "source": [
    "\n",
    "from scipy.stats import t\n",
    "from numpy import average, std\n",
    "from math import sqrt\n",
    "\n",
    "if __name__ == '__main__':\n",
    "    data = sample_balance\n",
    "    mean = average(data)\n",
    "    # evaluate sample variance by setting delta degrees of freedom (ddof) to\n",
    "    # 1. The degree used in calculations is N - ddof\n",
    "    stddev = std(data, ddof=1)\n",
    "    # Get the endpoints of the range that contains 95% of the distribution\n",
    "    t_bounds = t.interval(0.95, len(data) - 1)\n",
    "    # sum mean to the confidence interval\n",
    "    ci = [mean + critval * stddev / sqrt(len(data)) for critval in t_bounds]\n",
    "    print(\"Mean: %f\" % mean)\n",
    "    print(\"Confidence Interval 95%%: %f, %f\" % (ci[0], ci[1]))\n",
    "    \n",
    "    data = sample_balance\n",
    "    mean = average(data)\n",
    "    # evaluate sample variance by setting delta degrees of freedom (ddof) to\n",
    "    # 1. The degree used in calculations is N - ddof\n",
    "    stddev = std(data, ddof=1)\n",
    "    # Get the endpoints of the range that contains 95% of the distribution\n",
    "    t_bounds = t.interval(0.99, len(data) - 1)\n",
    "    # sum mean to the confidence interval\n",
    "    ci = [mean + critval * stddev / sqrt(len(data)) for critval in t_bounds]\n",
    "    print(\"Mean: %f\" % mean)\n",
    "    print(\"Confidence Interval 99%%: %f, %f\" % (ci[0], ci[1]))\n",
    "    "
   ]
  },
  {
   "cell_type": "markdown",
   "metadata": {},
   "source": [
    "| BASIS FOR COMPARISON | T-TEST                                                       | Z-TEST                                                       |\n",
    "| -------------------- | ------------------------------------------------------------ | ------------------------------------------------------------ |\n",
    "| Meaning              | T-test refers to a type of parametric test that is applied to identify, how the means of two sets of data differ from one another when variance is not given. | Z-test implies a hypothesis test which ascertains if the means of two datasets are different from each other when variance is given. |\n",
    "| Based on             | Student-t distribution                                       | Normal distribution                                          |\n",
    "| Population variance  | Unknown                                                      | Known                                                        |\n",
    "| Sample Size          | Small                                                        | Large                                                        |\n",
    "\n"
   ]
  },
  {
   "cell_type": "code",
   "execution_count": null,
   "metadata": {},
   "outputs": [],
   "source": []
  },
  {
   "cell_type": "code",
   "execution_count": null,
   "metadata": {},
   "outputs": [],
   "source": []
  },
  {
   "cell_type": "markdown",
   "metadata": {},
   "source": [
    "<h3>II) We played a gambling game in class: betting on the total value when two dice rolled.</h3>"
   ]
  },
  {
   "cell_type": "markdown",
   "metadata": {},
   "source": [
    "<h4>Q1) If you were to participate in the game, what would you bet on? (2, 3..., 11, 12)<br></h4>\n",
    "\n",
    " - Firstly, we have to know the possible cases. - To do this, I will make the roll_dice function to do a real game.<br> \n",
    " - Second, we have to calculate the probability of each cases. "
   ]
  },
  {
   "cell_type": "markdown",
   "metadata": {},
   "source": [
    "Method 1)\n",
    "\n",
    "We can also calculate the probability accurately. <br>\n",
    "The number of the possible cases are 11(2, 3, ....., 12)<br>\n",
    "From now, we have to calculate the probability of each cases. "
   ]
  },
  {
   "cell_type": "markdown",
   "metadata": {},
   "source": [
    "Case 2 = (1, 1)<br>\n",
    "Case 3 = (1, 2), (2, 1)<br>\n",
    "Case 4 = (1, 3), (2, 2), (3, 1)<br>\n",
    "Case 5 = (1, 4), (2, 3), (3, 2), (4, 1)<br>\n",
    "Case 6 = (1, 5), (2, 4), (3, 3), (4, 2), (5, 1)<br>\n",
    "Case 7 = (1, 6), (2, 5), (3, 4), (4, 3), (5, 2), (6, 1)<br>\n",
    "Case 8 = (2, 6), (3, 5), (4, 4), (5, 3), (6, 2)<br>\n",
    "Case 9 = (3, 6), (4, 5), (5, 4), (6, 3)<br>\n",
    "Case 10 = (4, 6), (5, 5), (6, 4)<br>\n",
    "Case 11 = (5, 6), (6, 5)<br>\n",
    "Case 12 = (6, 6)<br><br>\n",
    "*Total 36 Cases*<br>\n",
    "\n",
    "Each Probabiliy <br>\n",
    "Case 2 = 1/36<br>\n",
    "Case 3 = 2/36 <br>\n",
    "Case 4 = 3/36<br>\n",
    "Case 5 = 4/36<br>\n",
    "Case 6 = 5/36<br>\n",
    "Case 7 = 6/36<br>\n",
    "Case 8 = 5/36<br>\n",
    "Case 9 = 4/36<br>\n",
    "Case 10 = 3/36<br>\n",
    "Case 11 = 2/36<br>\n",
    "Case 12 = 1/36<br><br>\n",
    "\n",
    "***So it is reasonable to bet on 7***"
   ]
  },
  {
   "cell_type": "markdown",
   "metadata": {},
   "source": [
    "Method 2)\n",
    "\n",
    "If I don't have to do it accurately, I can simulate dice game for 1,000,000 game, and draw the histogram plot. \n",
    "And then, I can choose where to bet."
   ]
  },
  {
   "cell_type": "code",
   "execution_count": 70,
   "metadata": {},
   "outputs": [],
   "source": [
    "import random \n",
    "import matplotlib.pyplot as plt\n",
    "%matplotlib inline\n",
    "\n",
    "dice_game_list = []\n",
    "for i in range(0, 1000000):\n",
    "    def roll_die():\n",
    "        return random.randrange(1, 7)\n",
    "    total = roll_die() + roll_die()\n",
    "    dice_game_list.append(total)"
   ]
  },
  {
   "cell_type": "code",
   "execution_count": 71,
   "metadata": {},
   "outputs": [
    {
     "data": {
      "image/png": "[encoded data removed]",
      "text/plain": [
       "<Figure size 432x288 with 1 Axes>"
      ]
     },
     "metadata": {
      "needs_background": "light"
     },
     "output_type": "display_data"
    }
   ],
   "source": [
    "plt.hist(dice_game_list, bins=30)\n",
    "plt.ylabel('Frequency');"
   ]
  },
  {
   "cell_type": "markdown",
   "metadata": {},
   "source": [
    "***So, I will bet on 7***"
   ]
  },
  {
   "cell_type": "code",
   "execution_count": null,
   "metadata": {},
   "outputs": [],
   "source": []
  },
  {
   "cell_type": "markdown",
   "metadata": {},
   "source": [
    "</h4> Q2) What's the expeted return for each trial?(Assuming you pay 20 to join the game and you receive a 100 payoff if you win)</h4>"
   ]
  },
  {
   "cell_type": "code",
   "execution_count": 72,
   "metadata": {},
   "outputs": [],
   "source": [
    "#make the probability variable. \n",
    "case_2 = float(1/36)\n",
    "case_3 = float(2/36)\n",
    "case_4 = float(3/36)\n",
    "case_5 = float(4/36)\n",
    "case_6 = float(5/36)\n",
    "case_7 = float(6/36)\n",
    "case_8 = float(5/36)\n",
    "case_9 = float(4/36)\n",
    "case_10 = float(3/36)\n",
    "case_11 = float(2/36)\n",
    "case_12 = float(1/36)\n",
    "\n",
    "prob_list = [case_2, case_3, case_4, case_5, case_6, case_7, case_8, case_9,\n",
    "            case_10, case_11, case_12]"
   ]
  },
  {
   "cell_type": "code",
   "execution_count": 73,
   "metadata": {},
   "outputs": [
    {
     "name": "stdout",
     "output_type": "stream",
     "text": [
      "-156.56565656565655\n",
      "-287.8787878787879\n",
      "-393.93939393939394\n",
      "-474.7474747474747\n",
      "-530.3030303030303\n",
      "-560.6060606060606\n",
      "-616.1616161616162\n",
      "-696.969696969697\n",
      "-803.030303030303\n",
      "-934.3434343434343\n",
      "-1090.9090909090908\n"
     ]
    }
   ],
   "source": [
    "sum=0;\n",
    "for i in prob_list:\n",
    "    sum=sum+(1/11)*(i*8000+(1-i)*(-2000))\n",
    "    print(sum)"
   ]
  },
  {
   "cell_type": "code",
   "execution_count": 74,
   "metadata": {},
   "outputs": [
    {
     "data": {
      "text/plain": [
       "-1090.9090909090908"
      ]
     },
     "execution_count": 74,
     "metadata": {},
     "output_type": "execute_result"
    }
   ],
   "source": [
    "sum"
   ]
  },
  {
   "cell_type": "markdown",
   "metadata": {},
   "source": [
    "<h4>Q3) What's the probability we observe what we've observe in class?(i.e, No 7s in 10 trials)</h4>"
   ]
  },
  {
   "cell_type": "markdown",
   "metadata": {},
   "source": [
    "If I have to calculate to 'zero 7s in 10 trials', \n",
    "we can calculate it by the below process  <br>"
   ]
  },
  {
   "cell_type": "code",
   "execution_count": 75,
   "metadata": {},
   "outputs": [],
   "source": [
    "#sum probability except occuring 7. \n",
    "probability_except_7=1-6/36"
   ]
  },
  {
   "cell_type": "code",
   "execution_count": 76,
   "metadata": {},
   "outputs": [
    {
     "data": {
      "text/plain": [
       "0.8333333333333334"
      ]
     },
     "execution_count": 76,
     "metadata": {},
     "output_type": "execute_result"
    }
   ],
   "source": [
    "probability_except_7"
   ]
  },
  {
   "cell_type": "markdown",
   "metadata": {},
   "source": [
    "and then, calcaultae(**this probability power 10**)"
   ]
  },
  {
   "cell_type": "code",
   "execution_count": 77,
   "metadata": {},
   "outputs": [
    {
     "name": "stdout",
     "output_type": "stream",
     "text": [
      "Result probability is 0.1615055828898458\n"
     ]
    }
   ],
   "source": [
    "print('Result probability is', pow(probability_except_7,10))"
   ]
  },
  {
   "cell_type": "markdown",
   "metadata": {},
   "source": [
    "<h4>Q4)What's the most valuable takeaway for you from this game?</h4>"
   ]
  },
  {
   "cell_type": "markdown",
   "metadata": {},
   "source": [
    "The calculated probability cannot guarantee that if I do a real trial, I could get the result. <br>\n",
    "In our class, we got 7 too much. It is also different from calculated probaility of getting 7(just 1/6). "
   ]
  },
  {
   "cell_type": "code",
   "execution_count": null,
   "metadata": {},
   "outputs": [],
   "source": []
  },
  {
   "cell_type": "markdown",
   "metadata": {},
   "source": [
    "<h3>III) As personnel director, you want to test the perceptions of fairness of two methods of performance evaluation. 63 of 78 employees rated method 1 as fair. 49 of 82 rated method 2 as fair. </h3>"
   ]
  },
  {
   "cell_type": "markdown",
   "metadata": {},
   "source": [
    "<h4>Q1) At the 0.01 level of significance, is there a difference in perceptions?</h4>\n",
    "\n",
    "P1 = perceptions of fairness of method1, P2 = perceptions of fairness of method2 <br><br>\n",
    "\n",
    "- P-value\n",
    "**p-value** equals 0.00639884, ( p(x≤Z) = 0.996801 ). This means that the chance of type1 error (rejecting a correct H0) is small: 0.006399 (0.64%).\n",
    "The smaller the p-value the more it supports H1.\n",
    "\n",
    "-  Statistics\n",
    "The test statistic Z equals 2.726611, is not in the 99% critical value accepted range: [-2.5758 : 2.5758].\n",
    "\n",
    "***In other words, the difference between the proportion of the P1 and P2 populations is big enough to be statistically significant.***"
   ]
  },
  {
   "cell_type": "markdown",
   "metadata": {},
   "source": [
    "<h4> Q2) Find a 99% confidence interaval for the difference in perceptions</h4>"
   ]
  },
  {
   "cell_type": "markdown",
   "metadata": {},
   "source": [
    "Assumption: $$\\hat{P1} \\; and \\; \\hat{P2} \\; distributions \\; approxiamte\\; to \\;normal\\; distribution. $$ <br>\n",
    "Z<sub>0.005</sub> = -2.575<br>\n",
    " $$\\hat{P1} \\; - \\; \\hat{P2} \\; \\pm 2.575\\sqrt{n2\\hat{P1}\\hat{Q1} +n1\\hat{P2}\\hat{Q2} \\over n1n2}$$\n",
    "\n",
    "99% confidence interval is (0.029, 0.391)<br>\n",
    "Therefore, based on the data provided, the 99% confidence interval for the difference between the population proportions p1-p2 is 0.029 < p < 0.391, which indicates that we are 99% confident that the true difference between population proportions is contained by the interval (0.029, 0.391)(0.029,0.391)."
   ]
  },
  {
   "cell_type": "code",
   "execution_count": null,
   "metadata": {},
   "outputs": [],
   "source": []
  },
  {
   "cell_type": "markdown",
   "metadata": {},
   "source": [
    "<h3>IV) Suppose(as is roughly true) that 88% of the university males and 82% of university females had internship last summer. A sample survey interviews Simple Random Samples(SRS) of 500 university males and 500 university females. The two sample of course independent. What is the probabaility in the sample a higher proportion of females than meles worked last summer?</h3>"
   ]
  },
  {
   "cell_type": "code",
   "execution_count": null,
   "metadata": {},
   "outputs": [],
   "source": []
  },
  {
   "cell_type": "code",
   "execution_count": null,
   "metadata": {},
   "outputs": [],
   "source": []
  },
  {
   "cell_type": "code",
   "execution_count": null,
   "metadata": {},
   "outputs": [],
   "source": []
  },
  {
   "cell_type": "code",
   "execution_count": null,
   "metadata": {},
   "outputs": [],
   "source": []
  }
 ],
 "metadata": {
  "kernelspec": {
   "display_name": "Python 3",
   "language": "python",
   "name": "python3"
  },
  "language_info": {
   "codemirror_mode": {
    "name": "ipython",
    "version": 3
   },
   "file_extension": ".py",
   "mimetype": "text/x-python",
   "name": "python",
   "nbconvert_exporter": "python",
   "pygments_lexer": "ipython3",
   "version": "3.6.9"
  }
 },
 "nbformat": 4,
 "nbformat_minor": 2
}
