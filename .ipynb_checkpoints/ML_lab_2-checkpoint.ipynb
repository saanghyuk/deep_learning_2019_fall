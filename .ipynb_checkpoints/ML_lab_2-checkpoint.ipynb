{
 "cells": [
  {
   "cell_type": "code",
   "execution_count": 1,
   "metadata": {
    "collapsed": true
   },
   "outputs": [],
   "source": [
    "#H(x) = Wx+b"
   ]
  },
  {
   "cell_type": "code",
   "execution_count": 4,
   "metadata": {},
   "outputs": [],
   "source": [
    "import tensorflow as tf"
   ]
  },
  {
   "cell_type": "code",
   "execution_count": 5,
   "metadata": {
    "collapsed": true
   },
   "outputs": [],
   "source": [
    "x_train=[1, 2, 3]\n",
    "y_train=[1, 2, 3]"
   ]
  },
  {
   "cell_type": "code",
   "execution_count": 32,
   "metadata": {},
   "outputs": [],
   "source": [
    "W=tf.Variable(tf.random_normal([1]), name=\"wieght\")\n",
    "b=tf.Variable(tf.random_normal([1]), name='bias')"
   ]
  },
  {
   "cell_type": "code",
   "execution_count": 33,
   "metadata": {
    "collapsed": true
   },
   "outputs": [],
   "source": [
    "hypothesis = x_train * W + b"
   ]
  },
  {
   "cell_type": "code",
   "execution_count": 34,
   "metadata": {},
   "outputs": [],
   "source": [
    "cost = tf.reduce_mean(tf.square(hypothesis - y_train))"
   ]
  },
  {
   "cell_type": "code",
   "execution_count": 35,
   "metadata": {
    "collapsed": true
   },
   "outputs": [],
   "source": [
    "optimizer = tf.train.GradientDescentOptimizer(learning_rate=0.01)\n",
    "train= optimizer.minimize(cost)"
   ]
  },
  {
   "cell_type": "code",
   "execution_count": 36,
   "metadata": {
    "collapsed": true
   },
   "outputs": [],
   "source": [
    "#Launch the graph in a session\n",
    "sess=tf.Session()"
   ]
  },
  {
   "cell_type": "code",
   "execution_count": 37,
   "metadata": {
    "collapsed": true
   },
   "outputs": [],
   "source": [
    "#Initializes global variables in the graph \n",
    "sess.run(tf.global_variables_initializer())"
   ]
  },
  {
   "cell_type": "code",
   "execution_count": 41,
   "metadata": {},
   "outputs": [
    {
     "name": "stdout",
     "output_type": "stream",
     "text": [
      "0 6.022086e-11 [0.99999094] [2.03827e-05]\n",
      "100 3.8312464e-11 [0.99999267] [1.6356595e-05]\n",
      "200 2.5679014e-11 [0.999994] [1.333187e-05]\n",
      "300 1.8099891e-11 [0.999995] [1.1042258e-05]\n",
      "400 1.2789769e-11 [0.9999957] [9.297821e-06]\n",
      "500 9.592327e-12 [0.99999624] [7.981743e-06]\n",
      "600 7.356486e-12 [0.99999666] [7.0399774e-06]\n",
      "700 6.082246e-12 [0.9999971] [6.234122e-06]\n",
      "800 5.272227e-12 [0.9999972] [5.751727e-06]\n",
      "900 4.419576e-12 [0.99999744] [5.3003228e-06]\n",
      "1000 3.8464045e-12 [0.9999976] [4.947451e-06]\n",
      "1100 3.4295529e-12 [0.9999977] [4.6812256e-06]\n",
      "1200 3.2448118e-12 [0.99999774] [4.5564534e-06]\n",
      "1300 3.2448118e-12 [0.99999774] [4.4769636e-06]\n",
      "1400 3.2448118e-12 [0.99999785] [4.398269e-06]\n",
      "1500 3.0695446e-12 [0.99999785] [4.350575e-06]\n",
      "1600 3.0695446e-12 [0.99999785] [4.350575e-06]\n",
      "1700 3.0695446e-12 [0.99999785] [4.350575e-06]\n",
      "1800 3.0695446e-12 [0.99999785] [4.350575e-06]\n",
      "1900 3.0695446e-12 [0.99999785] [4.350575e-06]\n",
      "2000 3.0695446e-12 [0.99999785] [4.350575e-06]\n"
     ]
    }
   ],
   "source": [
    "for step in range(2001):\n",
    "    sess.run(train)\n",
    "    if step % 100==0:\n",
    "        print(step , sess.run(cost), sess.run(W), sess.run(b))"
   ]
  },
  {
   "cell_type": "code",
   "execution_count": null,
   "metadata": {
    "collapsed": true
   },
   "outputs": [],
   "source": []
  },
  {
   "cell_type": "markdown",
   "metadata": {},
   "source": [
    "## Placeholders"
   ]
  },
  {
   "cell_type": "code",
   "execution_count": 62,
   "metadata": {
    "collapsed": true
   },
   "outputs": [],
   "source": [
    "import tensorflow as tf"
   ]
  },
  {
   "cell_type": "code",
   "execution_count": 63,
   "metadata": {
    "collapsed": true
   },
   "outputs": [],
   "source": [
    "W=tf.Variable(tf.random_normal([1]), name='weight')\n",
    "b=tf.Variable(tf.random_normal([1]), name='bias')\n",
    "X=tf.placeholder(tf.float32, shape=[None])\n",
    "Y=tf.placeholder(tf.float32, shape=[None])"
   ]
  },
  {
   "cell_type": "code",
   "execution_count": 64,
   "metadata": {
    "collapsed": true
   },
   "outputs": [],
   "source": [
    "#Our hypothesis XW+b\n",
    "hypothesis = X*W +b"
   ]
  },
  {
   "cell_type": "code",
   "execution_count": 65,
   "metadata": {
    "collapsed": true
   },
   "outputs": [],
   "source": [
    "cost=tf.reduce_mean(tf.square(hypothesis -Y))\n",
    "optimizer=tf.train.GradientDescentOptimizer(learning_rate=0.01)\n",
    "train=optimizer.minimize(cost)"
   ]
  },
  {
   "cell_type": "code",
   "execution_count": 66,
   "metadata": {
    "collapsed": true
   },
   "outputs": [],
   "source": [
    "sess=tf.Session()"
   ]
  },
  {
   "cell_type": "code",
   "execution_count": 67,
   "metadata": {
    "collapsed": true
   },
   "outputs": [],
   "source": [
    "sess.run(tf.global_variables_initializer())"
   ]
  },
  {
   "cell_type": "code",
   "execution_count": 68,
   "metadata": {},
   "outputs": [
    {
     "name": "stdout",
     "output_type": "stream",
     "text": [
      "0 97.86299 [-0.9462593] [-0.09555402]\n",
      "100 0.03460327 [1.120361] [0.66545874]\n",
      "200 0.017577305 [1.0857835] [0.7902944]\n",
      "300 0.008928718 [1.0611393] [0.8792672]\n",
      "400 0.004535487 [1.0435752] [0.9426797]\n",
      "500 0.0023038802 [1.0310568] [0.9878749]\n",
      "600 0.0011702834 [1.0221348] [1.0200868]\n",
      "700 0.0005944652 [1.0157758] [1.0430444]\n",
      "800 0.00030197608 [1.0112438] [1.0594063]\n",
      "900 0.00015339493 [1.0080136] [1.071068]\n",
      "1000 7.7920165e-05 [1.0057116] [1.0793797]\n",
      "1100 3.9579616e-05 [1.0040706] [1.0853035]\n",
      "1200 2.0106285e-05 [1.0029013] [1.0895252]\n",
      "1300 1.0214282e-05 [1.002068] [1.0925341]\n",
      "1400 5.1880916e-06 [1.0014738] [1.0946789]\n",
      "1500 2.6365544e-06 [1.0010506] [1.096207]\n",
      "1600 1.3394226e-06 [1.0007489] [1.0972964]\n",
      "1700 6.8085734e-07 [1.0005339] [1.0980726]\n",
      "1800 3.4597105e-07 [1.0003808] [1.0986258]\n",
      "1900 1.7596062e-07 [1.0002713] [1.09902]\n",
      "2000 8.946908e-08 [1.0001935] [1.0993012]\n"
     ]
    }
   ],
   "source": [
    "for step in range(2001):\n",
    "    cost_val, W_val, b_val, train_val = \\\n",
    "        sess.run([cost, W, b, train], feed_dict={X:[1, 2, 3, 4, 5],\n",
    "                                                 Y:[2.1, 3.1, 4.1, 5.1, 6.1]})\n",
    "        \n",
    "    if step % 100 ==0: \n",
    "        print(step, cost_val, W_val, b_val)\n",
    "    "
   ]
  },
  {
   "cell_type": "code",
   "execution_count": null,
   "metadata": {
    "collapsed": true
   },
   "outputs": [],
   "source": []
  }
 ],
 "metadata": {
  "kernelspec": {
   "display_name": "Python 3",
   "language": "python",
   "name": "python3"
  },
  "language_info": {
   "codemirror_mode": {
    "name": "ipython",
    "version": 3
   },
   "file_extension": ".py",
   "mimetype": "text/x-python",
   "name": "python",
   "nbconvert_exporter": "python",
   "pygments_lexer": "ipython3",
   "version": "3.6.9"
  }
 },
 "nbformat": 4,
 "nbformat_minor": 2
}
